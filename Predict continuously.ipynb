{
 "cells": [
  {
   "cell_type": "code",
   "execution_count": 4,
   "metadata": {},
   "outputs": [],
   "source": [
    "# If frequency is 60 Hz then 60 rows are written in 1 sec\n",
    "# If we decide to make prediction every 2 sec data( 120 samples to decide a label 0/1),\n",
    "# we need to read 120 rows from current loc\n",
    "# If data is not available then wait\n"
   ]
  },
  {
   "cell_type": "code",
   "execution_count": 1,
   "metadata": {},
   "outputs": [],
   "source": [
    "import pandas as pd"
   ]
  },
  {
   "cell_type": "code",
   "execution_count": 3,
   "metadata": {},
   "outputs": [],
   "source": [
    "period = 2\n",
    "wait = period/2\n",
    "nsample = 120"
   ]
  },
  {
   "cell_type": "code",
   "execution_count": null,
   "metadata": {},
   "outputs": [],
   "source": [
    "loc = 0\n",
    "buffer = ''\n",
    "passwd = ''\n",
    "while True:\n",
    "    df = pd.read_csv('Data.csv')\n",
    "    total = len(df)\n",
    "    if total - loc < nsample:\n",
    "        time.sleep(wait)\n",
    "        continue\n",
    "\n",
    "    loc += nsample\n",
    "\n",
    "    frame = df.iloc[loc]\n",
    "    result = predict(frame)\n",
    "    if result == 'stale':\n",
    "        passwd += current\n",
    "        buffer = ''\n",
    "        print('Password till now', passwd, '\\n')\n",
    "    else:\n",
    "        buffer += result\n",
    "        current = parse(buffer)\n",
    "        print('current character: ', current, '\\n')\n",
    "    \n",
    "    time.sleep(wait)\n",
    "\n",
    "print('\\n\\nPassword is: ', passwd)"
   ]
  }
 ],
 "metadata": {
  "kernelspec": {
   "display_name": "Python 3",
   "language": "python",
   "name": "python3"
  },
  "language_info": {
   "codemirror_mode": {
    "name": "ipython",
    "version": 3
   },
   "file_extension": ".py",
   "mimetype": "text/x-python",
   "name": "python",
   "nbconvert_exporter": "python",
   "pygments_lexer": "ipython3",
   "version": "3.7.3"
  }
 },
 "nbformat": 4,
 "nbformat_minor": 2
}
