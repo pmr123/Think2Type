{
 "cells": [
  {
   "cell_type": "code",
   "execution_count": 1,
   "metadata": {},
   "outputs": [],
   "source": [
    "import time\n",
    "import numpy"
   ]
  },
  {
   "cell_type": "code",
   "execution_count": 2,
   "metadata": {},
   "outputs": [],
   "source": [
    "filename = 'Data.csv'\n",
    "frequency = 10\n",
    "channel = 8\n",
    "minute = 0.2\n",
    "intervals = round(minute*60*frequency) - 1\n",
    "delay = round(1/frequency, 6)"
   ]
  },
  {
   "cell_type": "code",
   "execution_count": 3,
   "metadata": {},
   "outputs": [],
   "source": [
    "data = numpy.random.rand(channel)\n",
    "data = \",\".join(map(str, data))\n",
    "f = open(filename, 'a')\n",
    "f.write(data)\n",
    "f.close()\n",
    "time.sleep(delay)"
   ]
  },
  {
   "cell_type": "code",
   "execution_count": 4,
   "metadata": {},
   "outputs": [],
   "source": [
    "for frame in range(intervals):\n",
    "    data = numpy.random.rand(channel)\n",
    "    data = \",\".join(map(str, data))\n",
    "    data = '\\n' + data\n",
    "    f = open(filename, 'a')\n",
    "    f.write(data)\n",
    "    f.close()\n",
    "    time.sleep(delay)"
   ]
  },
  {
   "cell_type": "code",
   "execution_count": null,
   "metadata": {},
   "outputs": [],
   "source": []
  }
 ],
 "metadata": {
  "kernelspec": {
   "display_name": "Python 3",
   "language": "python",
   "name": "python3"
  },
  "language_info": {
   "codemirror_mode": {
    "name": "ipython",
    "version": 3
   },
   "file_extension": ".py",
   "mimetype": "text/x-python",
   "name": "python",
   "nbconvert_exporter": "python",
   "pygments_lexer": "ipython3",
   "version": "3.7.3"
  }
 },
 "nbformat": 4,
 "nbformat_minor": 2
}
