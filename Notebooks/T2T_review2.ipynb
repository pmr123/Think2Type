{
 "cells": [
  {
   "cell_type": "code",
   "execution_count": 1,
   "metadata": {},
   "outputs": [
    {
     "name": "stderr",
     "output_type": "stream",
     "text": [
      "Using TensorFlow backend.\n"
     ]
    }
   ],
   "source": [
    "import warnings\n",
    "warnings.filterwarnings('ignore')\n",
    "\n",
    "import tensorflow as tf\n",
    "import scipy.io as sc\n",
    "import numpy as np\n",
    "import random\n",
    "import sys\n",
    "import pandas\n",
    "\n",
    "import time\n",
    "from sklearn import preprocessing\n",
    "import matplotlib.pyplot as plt\n",
    "import numpy\n",
    "\n",
    "from keras.models import Sequential\n",
    "\n",
    "from keras.layers import Dense\n",
    "from keras.layers import Dropout\n",
    "from keras.layers import Flatten\n",
    "from keras.layers.convolutional import Conv1D\n",
    "from keras.layers.convolutional import MaxPooling1D\n",
    "from keras.layers import LSTM\n",
    "\n",
    "from keras.optimizers import Adam\n",
    "\n",
    "from keras import backend as K\n",
    "\n",
    "from xgboost import XGBClassifier\n",
    "\n",
    "from sklearn.metrics import accuracy_score\n",
    "from keras.utils import plot_model"
   ]
  },
  {
   "cell_type": "code",
   "execution_count": 2,
   "metadata": {},
   "outputs": [
    {
     "name": "stderr",
     "output_type": "stream",
     "text": [
      "WARNING: Logging before flag parsing goes to stderr.\n",
      "W0309 11:57:12.338918 140624211789632 module_wrapper.py:136] From /home/sam/anaconda3/envs/build/lib/python3.7/site-packages/tensorflow_core/python/util/module_wrapper.py:163: The name tf.ConfigProto is deprecated. Please use tf.compat.v1.ConfigProto instead.\n",
      "\n"
     ]
    }
   ],
   "source": [
    "from keras.backend.tensorflow_backend import set_session\n",
    "config = tf.ConfigProto()\n",
    "config.gpu_options.per_process_gpu_memory_fraction = 0.8\n",
    "session = tf.Session(config=config)\n",
    "set_session(session)"
   ]
  },
  {
   "cell_type": "code",
   "execution_count": 3,
   "metadata": {},
   "outputs": [],
   "source": [
    "# this function is used to transfer one column label to one hot label\n",
    "def one_hot(y_):\n",
    "    # Function to encode output labels from number indexes\n",
    "    # e.g.: [[5], [0], [3]] --> [[0, 0, 0, 0, 0, 1], [1, 0, 0, 0, 0, 0], [0, 0, 0, 1, 0, 0]]\n",
    "    y_ = y_.reshape(len(y_))\n",
    "    n_values = np.max(y_) + 1\n",
    "    return np.eye(n_values)[np.array(y_, dtype=np.int32)]"
   ]
  },
  {
   "cell_type": "code",
   "execution_count": 4,
   "metadata": {},
   "outputs": [
    {
     "name": "stdout",
     "output_type": "stream",
     "text": [
      "(29738, 65)\n",
      "(28000, 6)\n"
     ]
    }
   ],
   "source": [
    "#  Data loading\n",
    "feature = sc.loadmat(\"S1_nolabel6.mat\")\n",
    "all = feature['S1_nolabel6']\n",
    "print (all.shape)\n",
    "\n",
    "np.random.shuffle(all)   # mix eeg_all\n",
    "\n",
    "final=2800*10\n",
    "all=all[0:final]\n",
    "feature_all =all[:,0:64]\n",
    "label=all[:,64:65]\n",
    "\n",
    "#z-score\n",
    "feature_all=preprocessing.scale(feature_all)\n",
    "ft = feature_all\n",
    "no_fea=feature_all.shape[-1]\n",
    "label_all=one_hot(label)\n",
    "lt = label_all\n",
    "print (label_all.shape)"
   ]
  },
  {
   "cell_type": "code",
   "execution_count": 5,
   "metadata": {},
   "outputs": [],
   "source": [
    "###CNN code\n",
    "n_classes=6\n",
    "epochs = 50\n",
    "feature_all=feature_all# the input data of CNN\n",
    "n_fea=feature_all.shape[-1]\n",
    "# label_all=one_hot(label_all)\n",
    "final=all.shape[0]\n",
    "middle_number=final*3//4\n",
    "feature_training =feature_all[0:middle_number]\n",
    "feature_testing =feature_all[middle_number:final]\n",
    "label_training =label_all[0:middle_number]\n",
    "label_testing =label_all[middle_number:final]\n",
    "label_ww=label_all[middle_number:final]  # for the confusion matrix\n",
    "\n",
    "train_fea=[]\n",
    "train_fea.append(feature_training)\n",
    "train_fea_re = train_fea[0].reshape(train_fea[0].shape[0], train_fea[0].shape[1], 1).astype('float32')\n",
    "train_label=[]\n",
    "train_label.append(label_training)\n",
    "\n",
    "test_fea=[]\n",
    "test_fea.append(feature_testing)\n",
    "test_fea_re = test_fea[0].reshape(test_fea[0].shape[0], test_fea[0].shape[1], 1).astype('float32')\n",
    "test_label=[]\n",
    "test_label.append(label_testing)"
   ]
  },
  {
   "cell_type": "code",
   "execution_count": 6,
   "metadata": {
    "scrolled": true
   },
   "outputs": [
    {
     "name": "stderr",
     "output_type": "stream",
     "text": [
      "W0309 11:57:12.638414 140624211789632 deprecation.py:506] From /home/sam/anaconda3/envs/build/lib/python3.7/site-packages/keras/backend/tensorflow_backend.py:3445: calling dropout (from tensorflow.python.ops.nn_ops) with keep_prob is deprecated and will be removed in a future version.\n",
      "Instructions for updating:\n",
      "Please use `rate` instead of `keep_prob`. Rate should be set to `rate = 1 - keep_prob`.\n",
      "W0309 11:57:12.647628 140624211789632 module_wrapper.py:136] From /home/sam/anaconda3/envs/build/lib/python3.7/site-packages/tensorflow_core/python/util/module_wrapper.py:163: The name tf.nn.max_pool is deprecated. Please use tf.nn.max_pool2d instead.\n",
      "\n"
     ]
    },
    {
     "name": "stdout",
     "output_type": "stream",
     "text": [
      "_________________________________________________________________\n",
      "Layer (type)                 Output Shape              Param #   \n",
      "=================================================================\n",
      "conv1d_1 (Conv1D)            (None, 62, 64)            256       \n",
      "_________________________________________________________________\n",
      "conv1d_2 (Conv1D)            (None, 60, 64)            12352     \n",
      "_________________________________________________________________\n",
      "dropout_1 (Dropout)          (None, 60, 64)            0         \n",
      "_________________________________________________________________\n",
      "max_pooling1d_1 (MaxPooling1 (None, 30, 64)            0         \n",
      "_________________________________________________________________\n",
      "flatten_1 (Flatten)          (None, 1920)              0         \n",
      "_________________________________________________________________\n",
      "dense_1 (Dense)              (None, 100)               192100    \n",
      "_________________________________________________________________\n",
      "dense_2 (Dense)              (None, 6)                 606       \n",
      "=================================================================\n",
      "Total params: 205,314\n",
      "Trainable params: 205,314\n",
      "Non-trainable params: 0\n",
      "_________________________________________________________________\n",
      "None\n"
     ]
    },
    {
     "name": "stderr",
     "output_type": "stream",
     "text": [
      "W0309 11:57:12.734289 140624211789632 module_wrapper.py:136] From /home/sam/anaconda3/envs/build/lib/python3.7/site-packages/tensorflow_core/python/util/module_wrapper.py:163: The name tf.train.Optimizer is deprecated. Please use tf.compat.v1.train.Optimizer instead.\n",
      "\n",
      "W0309 11:57:12.863955 140624211789632 deprecation.py:323] From /home/sam/anaconda3/envs/build/lib/python3.7/site-packages/tensorflow_core/python/ops/math_grad.py:1423: where (from tensorflow.python.ops.array_ops) is deprecated and will be removed in a future version.\n",
      "Instructions for updating:\n",
      "Use tf.where in 2.0, which has the same broadcast rule as np.where\n"
     ]
    },
    {
     "name": "stdout",
     "output_type": "stream",
     "text": [
      "Train on 21000 samples, validate on 7000 samples\n",
      "Epoch 1/50\n",
      "21000/21000 [==============================] - 5s 244us/step - loss: 1.2741 - acc: 0.4819 - val_loss: 1.0730 - val_acc: 0.5966\n",
      "Epoch 2/50\n",
      "21000/21000 [==============================] - 3s 122us/step - loss: 1.0169 - acc: 0.6110 - val_loss: 0.8841 - val_acc: 0.6780\n",
      "Epoch 3/50\n",
      "21000/21000 [==============================] - 3s 124us/step - loss: 0.8927 - acc: 0.6645 - val_loss: 0.7646 - val_acc: 0.7260\n",
      "Epoch 4/50\n",
      "21000/21000 [==============================] - 2s 119us/step - loss: 0.7953 - acc: 0.7020 - val_loss: 0.6785 - val_acc: 0.7589\n",
      "Epoch 5/50\n",
      "21000/21000 [==============================] - 3s 122us/step - loss: 0.7150 - acc: 0.7318 - val_loss: 0.6025 - val_acc: 0.7867\n",
      "Epoch 6/50\n",
      "21000/21000 [==============================] - 3s 127us/step - loss: 0.6336 - acc: 0.7634 - val_loss: 0.5034 - val_acc: 0.8320\n",
      "Epoch 7/50\n",
      "21000/21000 [==============================] - 3s 121us/step - loss: 0.5615 - acc: 0.7918 - val_loss: 0.4418 - val_acc: 0.8533\n",
      "Epoch 8/50\n",
      "21000/21000 [==============================] - 3s 123us/step - loss: 0.5036 - acc: 0.8146 - val_loss: 0.3821 - val_acc: 0.8723\n",
      "Epoch 9/50\n",
      "21000/21000 [==============================] - 3s 120us/step - loss: 0.4436 - acc: 0.8347 - val_loss: 0.3346 - val_acc: 0.8883\n",
      "Epoch 10/50\n",
      "21000/21000 [==============================] - 3s 120us/step - loss: 0.4081 - acc: 0.8532 - val_loss: 0.3214 - val_acc: 0.8920\n",
      "Epoch 11/50\n",
      "21000/21000 [==============================] - 3s 126us/step - loss: 0.3722 - acc: 0.8640 - val_loss: 0.2932 - val_acc: 0.8990\n",
      "Epoch 12/50\n",
      "21000/21000 [==============================] - 3s 119us/step - loss: 0.3423 - acc: 0.8763 - val_loss: 0.2780 - val_acc: 0.9093\n",
      "Epoch 13/50\n",
      "21000/21000 [==============================] - 3s 127us/step - loss: 0.3140 - acc: 0.8865 - val_loss: 0.2441 - val_acc: 0.9154\n",
      "Epoch 14/50\n",
      "21000/21000 [==============================] - 2s 111us/step - loss: 0.2903 - acc: 0.8938 - val_loss: 0.2170 - val_acc: 0.9261\n",
      "Epoch 15/50\n",
      "21000/21000 [==============================] - 2s 116us/step - loss: 0.2745 - acc: 0.9014 - val_loss: 0.2017 - val_acc: 0.9329\n",
      "Epoch 16/50\n",
      "21000/21000 [==============================] - 2s 116us/step - loss: 0.2485 - acc: 0.9118 - val_loss: 0.1832 - val_acc: 0.9366\n",
      "Epoch 17/50\n",
      "21000/21000 [==============================] - 3s 123us/step - loss: 0.2351 - acc: 0.9144 - val_loss: 0.1689 - val_acc: 0.9399\n",
      "Epoch 18/50\n",
      "21000/21000 [==============================] - 3s 121us/step - loss: 0.2255 - acc: 0.9190 - val_loss: 0.1613 - val_acc: 0.9443\n",
      "Epoch 19/50\n",
      "21000/21000 [==============================] - 3s 120us/step - loss: 0.2042 - acc: 0.9265 - val_loss: 0.1521 - val_acc: 0.9450\n",
      "Epoch 20/50\n",
      "21000/21000 [==============================] - 2s 114us/step - loss: 0.2000 - acc: 0.9269 - val_loss: 0.1417 - val_acc: 0.9476\n",
      "Epoch 21/50\n",
      "21000/21000 [==============================] - 3s 126us/step - loss: 0.1873 - acc: 0.9302 - val_loss: 0.1384 - val_acc: 0.9516\n",
      "Epoch 22/50\n",
      "21000/21000 [==============================] - 2s 112us/step - loss: 0.1786 - acc: 0.9361 - val_loss: 0.1277 - val_acc: 0.9541\n",
      "Epoch 23/50\n",
      "21000/21000 [==============================] - 2s 117us/step - loss: 0.1691 - acc: 0.9399 - val_loss: 0.1202 - val_acc: 0.9579\n",
      "Epoch 24/50\n",
      "21000/21000 [==============================] - 2s 119us/step - loss: 0.1588 - acc: 0.9455 - val_loss: 0.1193 - val_acc: 0.9604\n",
      "Epoch 25/50\n",
      "21000/21000 [==============================] - 2s 118us/step - loss: 0.1559 - acc: 0.9436 - val_loss: 0.1177 - val_acc: 0.9573\n",
      "Epoch 26/50\n",
      "21000/21000 [==============================] - 3s 120us/step - loss: 0.1460 - acc: 0.9455 - val_loss: 0.1150 - val_acc: 0.9577\n",
      "Epoch 27/50\n",
      "21000/21000 [==============================] - 2s 115us/step - loss: 0.1403 - acc: 0.9481 - val_loss: 0.1123 - val_acc: 0.9604\n",
      "Epoch 28/50\n",
      "21000/21000 [==============================] - 2s 115us/step - loss: 0.1359 - acc: 0.9505 - val_loss: 0.1192 - val_acc: 0.9583\n",
      "Epoch 29/50\n",
      "21000/21000 [==============================] - 2s 115us/step - loss: 0.1325 - acc: 0.9507 - val_loss: 0.0940 - val_acc: 0.9674\n",
      "Epoch 30/50\n",
      "21000/21000 [==============================] - 2s 116us/step - loss: 0.1291 - acc: 0.9532 - val_loss: 0.1003 - val_acc: 0.9639\n",
      "Epoch 31/50\n",
      "21000/21000 [==============================] - 3s 125us/step - loss: 0.1268 - acc: 0.9534 - val_loss: 0.0977 - val_acc: 0.9650\n",
      "Epoch 32/50\n",
      "21000/21000 [==============================] - 2s 115us/step - loss: 0.1264 - acc: 0.9542 - val_loss: 0.0993 - val_acc: 0.9647\n",
      "Epoch 33/50\n",
      "21000/21000 [==============================] - 3s 121us/step - loss: 0.1166 - acc: 0.9562 - val_loss: 0.0886 - val_acc: 0.9671\n",
      "Epoch 34/50\n",
      "21000/21000 [==============================] - 3s 121us/step - loss: 0.1087 - acc: 0.9610 - val_loss: 0.0819 - val_acc: 0.9723\n",
      "Epoch 35/50\n",
      "21000/21000 [==============================] - 3s 120us/step - loss: 0.1158 - acc: 0.9590 - val_loss: 0.0847 - val_acc: 0.9687\n",
      "Epoch 36/50\n",
      "21000/21000 [==============================] - 2s 113us/step - loss: 0.1077 - acc: 0.9608 - val_loss: 0.0829 - val_acc: 0.9707\n",
      "Epoch 37/50\n",
      "21000/21000 [==============================] - 3s 124us/step - loss: 0.1112 - acc: 0.9597 - val_loss: 0.0878 - val_acc: 0.9670\n",
      "Epoch 38/50\n",
      "21000/21000 [==============================] - 2s 117us/step - loss: 0.1070 - acc: 0.9599 - val_loss: 0.0815 - val_acc: 0.9704\n",
      "Epoch 39/50\n",
      "21000/21000 [==============================] - 2s 119us/step - loss: 0.1014 - acc: 0.9624 - val_loss: 0.0829 - val_acc: 0.9680\n",
      "Epoch 40/50\n",
      "21000/21000 [==============================] - 2s 119us/step - loss: 0.1083 - acc: 0.9608 - val_loss: 0.0763 - val_acc: 0.9734\n",
      "Epoch 41/50\n",
      "21000/21000 [==============================] - 2s 110us/step - loss: 0.0968 - acc: 0.9641 - val_loss: 0.0816 - val_acc: 0.9713\n",
      "Epoch 42/50\n",
      "21000/21000 [==============================] - 2s 114us/step - loss: 0.0992 - acc: 0.9624 - val_loss: 0.0873 - val_acc: 0.9701\n",
      "Epoch 43/50\n",
      "21000/21000 [==============================] - 2s 116us/step - loss: 0.0917 - acc: 0.9659 - val_loss: 0.0747 - val_acc: 0.9714\n",
      "Epoch 44/50\n",
      "21000/21000 [==============================] - 2s 115us/step - loss: 0.0950 - acc: 0.9656 - val_loss: 0.0756 - val_acc: 0.9743\n",
      "Epoch 45/50\n",
      "21000/21000 [==============================] - 2s 118us/step - loss: 0.0827 - acc: 0.9695 - val_loss: 0.0783 - val_acc: 0.9710\n",
      "Epoch 46/50\n",
      "21000/21000 [==============================] - 2s 116us/step - loss: 0.0908 - acc: 0.9665 - val_loss: 0.0732 - val_acc: 0.9731\n",
      "Epoch 47/50\n",
      "21000/21000 [==============================] - 2s 113us/step - loss: 0.0840 - acc: 0.9697 - val_loss: 0.0789 - val_acc: 0.9729\n",
      "Epoch 48/50\n",
      "21000/21000 [==============================] - 2s 115us/step - loss: 0.0883 - acc: 0.9661 - val_loss: 0.0767 - val_acc: 0.9710\n",
      "Epoch 49/50\n",
      "21000/21000 [==============================] - 2s 111us/step - loss: 0.0901 - acc: 0.9663 - val_loss: 0.0685 - val_acc: 0.9757\n",
      "Epoch 50/50\n",
      "21000/21000 [==============================] - 2s 117us/step - loss: 0.0817 - acc: 0.9696 - val_loss: 0.0688 - val_acc: 0.9744\n"
     ]
    }
   ],
   "source": [
    "#CNN model\n",
    "cnnmodel = Sequential()\n",
    "cnnmodel.add(Conv1D(filters=64, kernel_size=3, activation='relu', input_shape=(train_fea_re[0].shape[0],train_fea_re[1].shape[1])))\n",
    "cnnmodel.add(Conv1D(filters=64, kernel_size=3, activation='relu'))\n",
    "cnnmodel.add(Dropout(0.5))\n",
    "cnnmodel.add(MaxPooling1D(pool_size=2))\n",
    "cnnmodel.add(Flatten())\n",
    "cnnmodel.add(Dense(100, activation='relu'))\n",
    "cnnmodel.add(Dense(n_classes, activation='softmax'))\n",
    "plot_model(cnnmodel, to_file='cnn.png')\n",
    "print(cnnmodel.summary())\n",
    "cnnmodel.compile(loss='categorical_crossentropy', optimizer=Adam(), metrics=['accuracy'])\n",
    "cnnmodel_result = cnnmodel.fit(train_fea_re, train_label[0], batch_size=100, validation_data=(test_fea_re,test_label[0]), epochs=epochs)"
   ]
  },
  {
   "cell_type": "code",
   "execution_count": 7,
   "metadata": {},
   "outputs": [
    {
     "data": {
      "image/png": "[encoded data removed]",
      "text/plain": [
       "<Figure size 432x288 with 1 Axes>"
      ]
     },
     "metadata": {
      "needs_background": "light"
     },
     "output_type": "display_data"
    },
    {
     "data": {
      "image/png": "[encoded data removed]",
      "text/plain": [
       "<Figure size 432x288 with 1 Axes>"
      ]
     },
     "metadata": {
      "needs_background": "light"
     },
     "output_type": "display_data"
    }
   ],
   "source": [
    "# Plot training & validation accuracy values\n",
    "plt.plot(cnnmodel_result.history['acc'])\n",
    "plt.plot(cnnmodel_result.history['val_acc'])\n",
    "plt.title('Model accuracy')\n",
    "plt.ylabel('Accuracy')\n",
    "plt.xlabel('Epoch')\n",
    "plt.legend(['Train', 'Test'], loc='upper left')\n",
    "plt.show()\n",
    "\n",
    "# Plot training & validation loss values\n",
    "plt.plot(cnnmodel_result.history['loss'])\n",
    "plt.plot(cnnmodel_result.history['val_loss'])\n",
    "plt.title('Model loss')\n",
    "plt.ylabel('Loss')\n",
    "plt.xlabel('Epoch')\n",
    "plt.legend(['Train', 'Test'], loc='upper left')\n",
    "plt.show()"
   ]
  },
  {
   "cell_type": "code",
   "execution_count": 8,
   "metadata": {},
   "outputs": [
    {
     "name": "stdout",
     "output_type": "stream",
     "text": [
      "<-------CNN Final Metrics------->\n",
      "Loss     =  0.06877558919202004\n",
      "Accuracy =  0.9744285796369825\n"
     ]
    }
   ],
   "source": [
    "#CNN final metrics\n",
    "print(\"<-------CNN Final Metrics------->\")\n",
    "print(\"Loss     = \",cnnmodel_result.history['val_loss'][epochs-1])\n",
    "print(\"Accuracy = \",cnnmodel_result.history['val_acc'][epochs-1])"
   ]
  },
  {
   "cell_type": "code",
   "execution_count": 9,
   "metadata": {},
   "outputs": [
    {
     "name": "stdout",
     "output_type": "stream",
     "text": [
      "(28000, 100)\n"
     ]
    }
   ],
   "source": [
    "get_cnn_output = K.function([cnnmodel.layers[0].input],[cnnmodel.layers[5].output])\n",
    "cnn_fea1 = get_cnn_output([train_fea_re])\n",
    "cnn_fea2 = get_cnn_output([test_fea_re])\n",
    "cnn_fea = np.hstack((cnn_fea1,cnn_fea2))\n",
    "print(cnn_fea[0].shape)"
   ]
  },
  {
   "cell_type": "code",
   "execution_count": 10,
   "metadata": {},
   "outputs": [
    {
     "name": "stdout",
     "output_type": "stream",
     "text": [
      "64\n",
      "(21000, 1, 64)\n",
      "(7000, 1, 64)\n",
      "(21000, 6)\n",
      "(7000, 6)\n"
     ]
    }
   ],
   "source": [
    "#######RNN\n",
    "n_classes=6\n",
    "epochs = 250\n",
    "feature_all=feature_all\n",
    "no_fea=feature_all.shape[-1]\n",
    "print( no_fea)\n",
    "feature_all =feature_all.reshape([final,1,no_fea])\n",
    "# print( tf.argmax(label_all,1))\n",
    "# print (label_all.shape)\n",
    "# middle_number=21000\n",
    "feature_training =feature_all[0:middle_number]\n",
    "feature_testing =feature_all[middle_number:final]\n",
    "label_training =label_all[0:middle_number]\n",
    "label_testing =label_all[middle_number:final]\n",
    "# print \"label_testing\",label_testing\n",
    "a=feature_training\n",
    "b=feature_testing\n",
    "print(feature_training.shape)\n",
    "print(feature_testing.shape)\n",
    "print(label_training.shape)\n",
    "print(label_testing.shape)\n",
    "\n",
    "train_fea=[]\n",
    "train_fea.append(feature_training)\n",
    "train_label=[]\n",
    "train_label.append(label_training)\n",
    "\n",
    "test_fea=[]\n",
    "test_fea.append(feature_testing)\n",
    "test_label=[]\n",
    "test_label.append(label_testing)"
   ]
  },
  {
   "cell_type": "code",
   "execution_count": 11,
   "metadata": {},
   "outputs": [
    {
     "name": "stdout",
     "output_type": "stream",
     "text": [
      "_________________________________________________________________\n",
      "Layer (type)                 Output Shape              Param #   \n",
      "=================================================================\n",
      "lstm_1 (LSTM)                (None, 200)               212000    \n",
      "_________________________________________________________________\n",
      "dense_3 (Dense)              (None, 6)                 1206      \n",
      "=================================================================\n",
      "Total params: 213,206\n",
      "Trainable params: 213,206\n",
      "Non-trainable params: 0\n",
      "_________________________________________________________________\n",
      "None\n",
      "Train on 21000 samples, validate on 7000 samples\n",
      "Epoch 1/250\n",
      "21000/21000 [==============================] - 1s 54us/step - loss: 1.6544 - acc: 0.3138 - val_loss: 1.5350 - val_acc: 0.3690\n",
      "Epoch 2/250\n",
      "21000/21000 [==============================] - 1s 26us/step - loss: 1.4888 - acc: 0.3788 - val_loss: 1.4340 - val_acc: 0.3917\n",
      "Epoch 3/250\n",
      "21000/21000 [==============================] - 1s 30us/step - loss: 1.4163 - acc: 0.4073 - val_loss: 1.3706 - val_acc: 0.4241\n",
      "Epoch 4/250\n",
      "21000/21000 [==============================] - 1s 28us/step - loss: 1.3619 - acc: 0.4337 - val_loss: 1.3135 - val_acc: 0.4727\n",
      "Epoch 5/250\n",
      "21000/21000 [==============================] - 1s 27us/step - loss: 1.3187 - acc: 0.4587 - val_loss: 1.2705 - val_acc: 0.4890\n",
      "Epoch 6/250\n",
      "21000/21000 [==============================] - 1s 29us/step - loss: 1.2902 - acc: 0.4752 - val_loss: 1.2330 - val_acc: 0.5143\n",
      "Epoch 7/250\n",
      "21000/21000 [==============================] - 1s 27us/step - loss: 1.2547 - acc: 0.4962 - val_loss: 1.1985 - val_acc: 0.5356\n",
      "Epoch 8/250\n",
      "21000/21000 [==============================] - 1s 26us/step - loss: 1.2333 - acc: 0.5057 - val_loss: 1.1697 - val_acc: 0.5489\n",
      "Epoch 9/250\n",
      "21000/21000 [==============================] - 1s 26us/step - loss: 1.2096 - acc: 0.5157 - val_loss: 1.1455 - val_acc: 0.5639\n",
      "Epoch 10/250\n",
      "21000/21000 [==============================] - 1s 27us/step - loss: 1.1880 - acc: 0.5240 - val_loss: 1.1215 - val_acc: 0.5751\n",
      "Epoch 11/250\n",
      "21000/21000 [==============================] - 1s 31us/step - loss: 1.1674 - acc: 0.5367 - val_loss: 1.0978 - val_acc: 0.5816\n",
      "Epoch 12/250\n",
      "21000/21000 [==============================] - 1s 29us/step - loss: 1.1485 - acc: 0.5476 - val_loss: 1.0768 - val_acc: 0.5970\n",
      "Epoch 13/250\n",
      "21000/21000 [==============================] - 1s 28us/step - loss: 1.1331 - acc: 0.5522 - val_loss: 1.0554 - val_acc: 0.6074\n",
      "Epoch 14/250\n",
      "21000/21000 [==============================] - 1s 26us/step - loss: 1.1152 - acc: 0.5623 - val_loss: 1.0387 - val_acc: 0.6096\n",
      "Epoch 15/250\n",
      "21000/21000 [==============================] - 1s 28us/step - loss: 1.1018 - acc: 0.5700 - val_loss: 1.0191 - val_acc: 0.6239\n",
      "Epoch 16/250\n",
      "21000/21000 [==============================] - 1s 29us/step - loss: 1.0854 - acc: 0.5783 - val_loss: 0.9999 - val_acc: 0.6360\n",
      "Epoch 17/250\n",
      "21000/21000 [==============================] - 1s 25us/step - loss: 1.0686 - acc: 0.5840 - val_loss: 0.9859 - val_acc: 0.6401\n",
      "Epoch 18/250\n",
      "21000/21000 [==============================] - 1s 26us/step - loss: 1.0583 - acc: 0.5878 - val_loss: 0.9664 - val_acc: 0.6559\n",
      "Epoch 19/250\n",
      "21000/21000 [==============================] - 1s 30us/step - loss: 1.0421 - acc: 0.5950 - val_loss: 0.9513 - val_acc: 0.6581\n",
      "Epoch 20/250\n",
      "21000/21000 [==============================] - 1s 28us/step - loss: 1.0267 - acc: 0.6061 - val_loss: 0.9434 - val_acc: 0.6564\n",
      "Epoch 21/250\n",
      "21000/21000 [==============================] - 1s 48us/step - loss: 1.0168 - acc: 0.6087 - val_loss: 0.9208 - val_acc: 0.6766\n",
      "Epoch 22/250\n",
      "21000/21000 [==============================] - 1s 41us/step - loss: 1.0030 - acc: 0.6175 - val_loss: 0.9060 - val_acc: 0.6827\n",
      "Epoch 23/250\n",
      "21000/21000 [==============================] - 1s 44us/step - loss: 0.9901 - acc: 0.6194 - val_loss: 0.8935 - val_acc: 0.6854\n",
      "Epoch 24/250\n",
      "21000/21000 [==============================] - 1s 38us/step - loss: 0.9783 - acc: 0.6231 - val_loss: 0.8782 - val_acc: 0.6970\n",
      "Epoch 25/250\n",
      "21000/21000 [==============================] - 1s 26us/step - loss: 0.9673 - acc: 0.6291 - val_loss: 0.8648 - val_acc: 0.6981\n",
      "Epoch 26/250\n",
      "21000/21000 [==============================] - 1s 27us/step - loss: 0.9593 - acc: 0.6310 - val_loss: 0.8532 - val_acc: 0.7110\n",
      "Epoch 27/250\n",
      "21000/21000 [==============================] - 1s 27us/step - loss: 0.9458 - acc: 0.6428 - val_loss: 0.8426 - val_acc: 0.7070\n",
      "Epoch 28/250\n",
      "21000/21000 [==============================] - 1s 28us/step - loss: 0.9342 - acc: 0.6463 - val_loss: 0.8277 - val_acc: 0.7157\n",
      "Epoch 29/250\n",
      "21000/21000 [==============================] - 1s 30us/step - loss: 0.9251 - acc: 0.6518 - val_loss: 0.8165 - val_acc: 0.7193\n",
      "Epoch 30/250\n",
      "21000/21000 [==============================] - 1s 28us/step - loss: 0.9140 - acc: 0.6535 - val_loss: 0.8127 - val_acc: 0.7206\n",
      "Epoch 31/250\n",
      "21000/21000 [==============================] - 1s 27us/step - loss: 0.9040 - acc: 0.6585 - val_loss: 0.8009 - val_acc: 0.7207\n",
      "Epoch 32/250\n",
      "21000/21000 [==============================] - 1s 27us/step - loss: 0.8990 - acc: 0.6605 - val_loss: 0.7855 - val_acc: 0.7329\n",
      "Epoch 33/250\n",
      "21000/21000 [==============================] - 1s 27us/step - loss: 0.8854 - acc: 0.6696 - val_loss: 0.7753 - val_acc: 0.7353\n",
      "Epoch 34/250\n",
      "21000/21000 [==============================] - 1s 26us/step - loss: 0.8775 - acc: 0.6698 - val_loss: 0.7659 - val_acc: 0.7423\n",
      "Epoch 35/250\n",
      "21000/21000 [==============================] - 1s 28us/step - loss: 0.8727 - acc: 0.6735 - val_loss: 0.7540 - val_acc: 0.7466\n",
      "Epoch 36/250\n",
      "21000/21000 [==============================] - 1s 30us/step - loss: 0.8657 - acc: 0.6763 - val_loss: 0.7468 - val_acc: 0.7527\n",
      "Epoch 37/250\n",
      "21000/21000 [==============================] - 1s 33us/step - loss: 0.8597 - acc: 0.6792 - val_loss: 0.7331 - val_acc: 0.7550\n",
      "Epoch 38/250\n",
      "21000/21000 [==============================] - 1s 42us/step - loss: 0.8471 - acc: 0.6860 - val_loss: 0.7239 - val_acc: 0.7584\n",
      "Epoch 39/250\n",
      "21000/21000 [==============================] - 1s 31us/step - loss: 0.8417 - acc: 0.6885 - val_loss: 0.7190 - val_acc: 0.7557\n",
      "Epoch 40/250\n",
      "21000/21000 [==============================] - 1s 26us/step - loss: 0.8319 - acc: 0.6890 - val_loss: 0.7078 - val_acc: 0.7643\n",
      "Epoch 41/250\n",
      "21000/21000 [==============================] - 1s 26us/step - loss: 0.8277 - acc: 0.6932 - val_loss: 0.7004 - val_acc: 0.7694\n",
      "Epoch 42/250\n",
      "21000/21000 [==============================] - 1s 29us/step - loss: 0.8241 - acc: 0.6895 - val_loss: 0.6986 - val_acc: 0.7604\n",
      "Epoch 43/250\n",
      "21000/21000 [==============================] - 1s 26us/step - loss: 0.8161 - acc: 0.6973 - val_loss: 0.6910 - val_acc: 0.7649\n",
      "Epoch 44/250\n",
      "21000/21000 [==============================] - 1s 28us/step - loss: 0.8033 - acc: 0.7051 - val_loss: 0.6769 - val_acc: 0.7756\n",
      "Epoch 45/250\n",
      "21000/21000 [==============================] - 1s 25us/step - loss: 0.8047 - acc: 0.7007 - val_loss: 0.6665 - val_acc: 0.7791\n",
      "Epoch 46/250\n",
      "21000/21000 [==============================] - 1s 25us/step - loss: 0.7973 - acc: 0.7025 - val_loss: 0.6642 - val_acc: 0.7729\n",
      "Epoch 47/250\n",
      "21000/21000 [==============================] - 1s 27us/step - loss: 0.7910 - acc: 0.7072 - val_loss: 0.6541 - val_acc: 0.7853\n",
      "Epoch 48/250\n",
      "21000/21000 [==============================] - 1s 27us/step - loss: 0.7796 - acc: 0.7102 - val_loss: 0.6547 - val_acc: 0.7776\n",
      "Epoch 49/250\n",
      "21000/21000 [==============================] - 1s 24us/step - loss: 0.7787 - acc: 0.7120 - val_loss: 0.6421 - val_acc: 0.7879\n",
      "Epoch 50/250\n",
      "21000/21000 [==============================] - 1s 27us/step - loss: 0.7711 - acc: 0.7153 - val_loss: 0.6300 - val_acc: 0.7913\n",
      "Epoch 51/250\n",
      "21000/21000 [==============================] - 1s 25us/step - loss: 0.7709 - acc: 0.7135 - val_loss: 0.6261 - val_acc: 0.7926\n",
      "Epoch 52/250\n",
      "21000/21000 [==============================] - 1s 25us/step - loss: 0.7632 - acc: 0.7185 - val_loss: 0.6257 - val_acc: 0.7966\n",
      "Epoch 53/250\n",
      "21000/21000 [==============================] - 1s 35us/step - loss: 0.7569 - acc: 0.7193 - val_loss: 0.6206 - val_acc: 0.7966\n",
      "Epoch 54/250\n",
      "21000/21000 [==============================] - 1s 30us/step - loss: 0.7551 - acc: 0.7199 - val_loss: 0.6151 - val_acc: 0.7969\n",
      "Epoch 55/250\n",
      "21000/21000 [==============================] - 1s 32us/step - loss: 0.7487 - acc: 0.7251 - val_loss: 0.6065 - val_acc: 0.8014\n",
      "Epoch 56/250\n",
      "21000/21000 [==============================] - 1s 32us/step - loss: 0.7420 - acc: 0.7270 - val_loss: 0.5951 - val_acc: 0.8054\n",
      "Epoch 57/250\n",
      "21000/21000 [==============================] - 1s 27us/step - loss: 0.7376 - acc: 0.7253 - val_loss: 0.5966 - val_acc: 0.8046\n",
      "Epoch 58/250\n",
      "21000/21000 [==============================] - 1s 27us/step - loss: 0.7415 - acc: 0.7245 - val_loss: 0.5929 - val_acc: 0.8063\n",
      "Epoch 59/250\n",
      "21000/21000 [==============================] - 1s 29us/step - loss: 0.7290 - acc: 0.7332 - val_loss: 0.5843 - val_acc: 0.8101\n",
      "Epoch 60/250\n",
      "21000/21000 [==============================] - 1s 41us/step - loss: 0.7276 - acc: 0.7352 - val_loss: 0.5751 - val_acc: 0.8163\n",
      "Epoch 61/250\n",
      "21000/21000 [==============================] - 1s 38us/step - loss: 0.7165 - acc: 0.7385 - val_loss: 0.5758 - val_acc: 0.8104\n",
      "Epoch 62/250\n",
      "21000/21000 [==============================] - 1s 25us/step - loss: 0.7197 - acc: 0.7322 - val_loss: 0.5716 - val_acc: 0.8141\n",
      "Epoch 63/250\n",
      "21000/21000 [==============================] - 1s 32us/step - loss: 0.7097 - acc: 0.7400 - val_loss: 0.5633 - val_acc: 0.8213\n",
      "Epoch 64/250\n",
      "21000/21000 [==============================] - 1s 39us/step - loss: 0.7150 - acc: 0.7377 - val_loss: 0.5625 - val_acc: 0.8191\n",
      "Epoch 65/250\n",
      "21000/21000 [==============================] - 1s 25us/step - loss: 0.7123 - acc: 0.7367 - val_loss: 0.5535 - val_acc: 0.8253\n",
      "Epoch 66/250\n",
      "21000/21000 [==============================] - 1s 27us/step - loss: 0.7021 - acc: 0.7417 - val_loss: 0.5454 - val_acc: 0.8280\n",
      "Epoch 67/250\n",
      "21000/21000 [==============================] - 1s 27us/step - loss: 0.7013 - acc: 0.7417 - val_loss: 0.5482 - val_acc: 0.8231\n",
      "Epoch 68/250\n",
      "21000/21000 [==============================] - 1s 33us/step - loss: 0.7014 - acc: 0.7432 - val_loss: 0.5409 - val_acc: 0.8279\n",
      "Epoch 69/250\n",
      "21000/21000 [==============================] - 1s 28us/step - loss: 0.7009 - acc: 0.7392 - val_loss: 0.5459 - val_acc: 0.8250\n",
      "Epoch 70/250\n",
      "21000/21000 [==============================] - 1s 27us/step - loss: 0.6923 - acc: 0.7477 - val_loss: 0.5338 - val_acc: 0.8311\n",
      "Epoch 71/250\n",
      "21000/21000 [==============================] - 1s 31us/step - loss: 0.6883 - acc: 0.7487 - val_loss: 0.5300 - val_acc: 0.8279\n",
      "Epoch 72/250\n",
      "21000/21000 [==============================] - 1s 31us/step - loss: 0.6846 - acc: 0.7461 - val_loss: 0.5277 - val_acc: 0.8317\n",
      "Epoch 73/250\n",
      "21000/21000 [==============================] - 1s 28us/step - loss: 0.6831 - acc: 0.7497 - val_loss: 0.5217 - val_acc: 0.8337\n",
      "Epoch 74/250\n",
      "21000/21000 [==============================] - 1s 26us/step - loss: 0.6837 - acc: 0.7503 - val_loss: 0.5233 - val_acc: 0.8329\n",
      "Epoch 75/250\n",
      "21000/21000 [==============================] - 1s 30us/step - loss: 0.6771 - acc: 0.7519 - val_loss: 0.5151 - val_acc: 0.8329\n",
      "Epoch 76/250\n",
      "21000/21000 [==============================] - 1s 25us/step - loss: 0.6798 - acc: 0.7506 - val_loss: 0.5158 - val_acc: 0.8371\n",
      "Epoch 77/250\n",
      "21000/21000 [==============================] - 1s 28us/step - loss: 0.6719 - acc: 0.7558 - val_loss: 0.5120 - val_acc: 0.8397\n",
      "Epoch 78/250\n",
      "21000/21000 [==============================] - 1s 31us/step - loss: 0.6703 - acc: 0.7517 - val_loss: 0.5090 - val_acc: 0.8393\n",
      "Epoch 79/250\n",
      "21000/21000 [==============================] - 1s 49us/step - loss: 0.6633 - acc: 0.7582 - val_loss: 0.5054 - val_acc: 0.8397\n",
      "Epoch 80/250\n",
      "21000/21000 [==============================] - 1s 34us/step - loss: 0.6647 - acc: 0.7577 - val_loss: 0.5020 - val_acc: 0.8404\n",
      "Epoch 81/250\n",
      "21000/21000 [==============================] - 1s 27us/step - loss: 0.6610 - acc: 0.7561 - val_loss: 0.4967 - val_acc: 0.8420\n",
      "Epoch 82/250\n",
      "21000/21000 [==============================] - 1s 24us/step - loss: 0.6581 - acc: 0.7584 - val_loss: 0.4989 - val_acc: 0.8367\n",
      "Epoch 83/250\n",
      "21000/21000 [==============================] - 1s 27us/step - loss: 0.6548 - acc: 0.7619 - val_loss: 0.4966 - val_acc: 0.8387\n",
      "Epoch 84/250\n",
      "21000/21000 [==============================] - 1s 28us/step - loss: 0.6555 - acc: 0.7609 - val_loss: 0.4879 - val_acc: 0.8451\n",
      "Epoch 85/250\n",
      "21000/21000 [==============================] - 1s 30us/step - loss: 0.6544 - acc: 0.7600 - val_loss: 0.4849 - val_acc: 0.8476\n",
      "Epoch 86/250\n",
      "21000/21000 [==============================] - 1s 26us/step - loss: 0.6479 - acc: 0.7638 - val_loss: 0.4791 - val_acc: 0.8457\n",
      "Epoch 87/250\n",
      "21000/21000 [==============================] - 1s 29us/step - loss: 0.6511 - acc: 0.7615 - val_loss: 0.4801 - val_acc: 0.8467\n",
      "Epoch 88/250\n",
      "21000/21000 [==============================] - 1s 27us/step - loss: 0.6417 - acc: 0.7644 - val_loss: 0.4760 - val_acc: 0.8490\n",
      "Epoch 89/250\n",
      "21000/21000 [==============================] - 1s 37us/step - loss: 0.6403 - acc: 0.7672 - val_loss: 0.4763 - val_acc: 0.8449\n",
      "Epoch 90/250\n",
      "21000/21000 [==============================] - 1s 38us/step - loss: 0.6366 - acc: 0.7686 - val_loss: 0.4730 - val_acc: 0.8494\n",
      "Epoch 91/250\n",
      "21000/21000 [==============================] - 1s 26us/step - loss: 0.6389 - acc: 0.7660 - val_loss: 0.4672 - val_acc: 0.8507\n",
      "Epoch 92/250\n",
      "21000/21000 [==============================] - 1s 46us/step - loss: 0.6382 - acc: 0.7665 - val_loss: 0.4694 - val_acc: 0.8467\n",
      "Epoch 93/250\n",
      "21000/21000 [==============================] - 1s 43us/step - loss: 0.6379 - acc: 0.7664 - val_loss: 0.4655 - val_acc: 0.8526\n",
      "Epoch 94/250\n",
      "21000/21000 [==============================] - 1s 32us/step - loss: 0.6334 - acc: 0.7712 - val_loss: 0.4628 - val_acc: 0.8526\n",
      "Epoch 95/250\n",
      "21000/21000 [==============================] - 1s 38us/step - loss: 0.6314 - acc: 0.7720 - val_loss: 0.4605 - val_acc: 0.8577\n",
      "Epoch 96/250\n",
      "21000/21000 [==============================] - 1s 38us/step - loss: 0.6260 - acc: 0.7697 - val_loss: 0.4583 - val_acc: 0.8549\n",
      "Epoch 97/250\n",
      "21000/21000 [==============================] - 1s 26us/step - loss: 0.6255 - acc: 0.7720 - val_loss: 0.4491 - val_acc: 0.8590\n",
      "Epoch 98/250\n",
      "21000/21000 [==============================] - 1s 33us/step - loss: 0.6252 - acc: 0.7729 - val_loss: 0.4484 - val_acc: 0.8607\n",
      "Epoch 99/250\n",
      "21000/21000 [==============================] - 1s 30us/step - loss: 0.6203 - acc: 0.7708 - val_loss: 0.4472 - val_acc: 0.8589\n",
      "Epoch 100/250\n",
      "21000/21000 [==============================] - 1s 32us/step - loss: 0.6113 - acc: 0.7804 - val_loss: 0.4499 - val_acc: 0.8581\n",
      "Epoch 101/250\n",
      "21000/21000 [==============================] - 1s 31us/step - loss: 0.6162 - acc: 0.7701 - val_loss: 0.4443 - val_acc: 0.8596\n",
      "Epoch 102/250\n",
      "21000/21000 [==============================] - 1s 34us/step - loss: 0.6191 - acc: 0.7745 - val_loss: 0.4476 - val_acc: 0.8554\n",
      "Epoch 103/250\n",
      "21000/21000 [==============================] - 1s 30us/step - loss: 0.6096 - acc: 0.7777 - val_loss: 0.4445 - val_acc: 0.8589\n",
      "Epoch 104/250\n",
      "21000/21000 [==============================] - 1s 28us/step - loss: 0.6059 - acc: 0.7804 - val_loss: 0.4369 - val_acc: 0.8650\n",
      "Epoch 105/250\n",
      "21000/21000 [==============================] - 1s 26us/step - loss: 0.6131 - acc: 0.7748 - val_loss: 0.4362 - val_acc: 0.8593\n",
      "Epoch 106/250\n",
      "21000/21000 [==============================] - 1s 27us/step - loss: 0.6119 - acc: 0.7793 - val_loss: 0.4374 - val_acc: 0.8607\n",
      "Epoch 107/250\n",
      "21000/21000 [==============================] - 1s 31us/step - loss: 0.6016 - acc: 0.7810 - val_loss: 0.4345 - val_acc: 0.8631\n",
      "Epoch 108/250\n",
      "21000/21000 [==============================] - 1s 26us/step - loss: 0.6009 - acc: 0.7810 - val_loss: 0.4292 - val_acc: 0.8643\n",
      "Epoch 109/250\n",
      "21000/21000 [==============================] - 1s 27us/step - loss: 0.6019 - acc: 0.7780 - val_loss: 0.4269 - val_acc: 0.8649\n",
      "Epoch 110/250\n",
      "21000/21000 [==============================] - 1s 29us/step - loss: 0.6018 - acc: 0.7820 - val_loss: 0.4258 - val_acc: 0.8677\n",
      "Epoch 111/250\n",
      "21000/21000 [==============================] - 1s 26us/step - loss: 0.5992 - acc: 0.7813 - val_loss: 0.4272 - val_acc: 0.8676\n",
      "Epoch 112/250\n",
      "21000/21000 [==============================] - 1s 27us/step - loss: 0.5972 - acc: 0.7813 - val_loss: 0.4256 - val_acc: 0.8664\n",
      "Epoch 113/250\n",
      "21000/21000 [==============================] - 1s 26us/step - loss: 0.5967 - acc: 0.7794 - val_loss: 0.4171 - val_acc: 0.8706\n"
     ]
    },
    {
     "name": "stdout",
     "output_type": "stream",
     "text": [
      "Epoch 114/250\n",
      "21000/21000 [==============================] - 1s 25us/step - loss: 0.5950 - acc: 0.7823 - val_loss: 0.4234 - val_acc: 0.8689\n",
      "Epoch 115/250\n",
      "21000/21000 [==============================] - 1s 28us/step - loss: 0.5968 - acc: 0.7834 - val_loss: 0.4227 - val_acc: 0.8683\n",
      "Epoch 116/250\n",
      "21000/21000 [==============================] - 1s 27us/step - loss: 0.5916 - acc: 0.7850 - val_loss: 0.4209 - val_acc: 0.8653\n",
      "Epoch 117/250\n",
      "21000/21000 [==============================] - 1s 39us/step - loss: 0.5937 - acc: 0.7796 - val_loss: 0.4137 - val_acc: 0.8700\n",
      "Epoch 118/250\n",
      "21000/21000 [==============================] - 1s 28us/step - loss: 0.5888 - acc: 0.7843 - val_loss: 0.4167 - val_acc: 0.8673\n",
      "Epoch 119/250\n",
      "21000/21000 [==============================] - 1s 27us/step - loss: 0.5910 - acc: 0.7842 - val_loss: 0.4139 - val_acc: 0.8676\n",
      "Epoch 120/250\n",
      "21000/21000 [==============================] - 1s 27us/step - loss: 0.5822 - acc: 0.7898 - val_loss: 0.4164 - val_acc: 0.8683\n",
      "Epoch 121/250\n",
      "21000/21000 [==============================] - 1s 28us/step - loss: 0.5845 - acc: 0.7851 - val_loss: 0.4064 - val_acc: 0.8784\n",
      "Epoch 122/250\n",
      "21000/21000 [==============================] - 1s 29us/step - loss: 0.5837 - acc: 0.7844 - val_loss: 0.4096 - val_acc: 0.8724\n",
      "Epoch 123/250\n",
      "21000/21000 [==============================] - 1s 33us/step - loss: 0.5888 - acc: 0.7861 - val_loss: 0.4078 - val_acc: 0.8740\n",
      "Epoch 124/250\n",
      "21000/21000 [==============================] - 1s 27us/step - loss: 0.5859 - acc: 0.7859 - val_loss: 0.4063 - val_acc: 0.8724\n",
      "Epoch 125/250\n",
      "21000/21000 [==============================] - 1s 28us/step - loss: 0.5812 - acc: 0.7873 - val_loss: 0.4054 - val_acc: 0.8726\n",
      "Epoch 126/250\n",
      "21000/21000 [==============================] - 1s 27us/step - loss: 0.5867 - acc: 0.7865 - val_loss: 0.4075 - val_acc: 0.8694\n",
      "Epoch 127/250\n",
      "21000/21000 [==============================] - 1s 28us/step - loss: 0.5798 - acc: 0.7876 - val_loss: 0.4066 - val_acc: 0.8694\n",
      "Epoch 128/250\n",
      "21000/21000 [==============================] - 1s 29us/step - loss: 0.5687 - acc: 0.7935 - val_loss: 0.4008 - val_acc: 0.8703\n",
      "Epoch 129/250\n",
      "21000/21000 [==============================] - 1s 29us/step - loss: 0.5778 - acc: 0.7870 - val_loss: 0.3999 - val_acc: 0.8739\n",
      "Epoch 130/250\n",
      "21000/21000 [==============================] - 1s 29us/step - loss: 0.5767 - acc: 0.7884 - val_loss: 0.3990 - val_acc: 0.8756\n",
      "Epoch 131/250\n",
      "21000/21000 [==============================] - 1s 28us/step - loss: 0.5707 - acc: 0.7927 - val_loss: 0.4042 - val_acc: 0.8711\n",
      "Epoch 132/250\n",
      "21000/21000 [==============================] - 1s 27us/step - loss: 0.5672 - acc: 0.7946 - val_loss: 0.3929 - val_acc: 0.8769\n",
      "Epoch 133/250\n",
      "21000/21000 [==============================] - 1s 27us/step - loss: 0.5652 - acc: 0.7935 - val_loss: 0.3936 - val_acc: 0.8770\n",
      "Epoch 134/250\n",
      "21000/21000 [==============================] - 1s 28us/step - loss: 0.5682 - acc: 0.7930 - val_loss: 0.3897 - val_acc: 0.8753\n",
      "Epoch 135/250\n",
      "21000/21000 [==============================] - 1s 29us/step - loss: 0.5617 - acc: 0.7983 - val_loss: 0.3907 - val_acc: 0.8777\n",
      "Epoch 136/250\n",
      "21000/21000 [==============================] - 1s 29us/step - loss: 0.5656 - acc: 0.7941 - val_loss: 0.3904 - val_acc: 0.8760\n",
      "Epoch 137/250\n",
      "21000/21000 [==============================] - 1s 30us/step - loss: 0.5616 - acc: 0.7967 - val_loss: 0.3867 - val_acc: 0.8777\n",
      "Epoch 138/250\n",
      "21000/21000 [==============================] - 1s 27us/step - loss: 0.5637 - acc: 0.7938 - val_loss: 0.3830 - val_acc: 0.8821\n",
      "Epoch 139/250\n",
      "21000/21000 [==============================] - 1s 28us/step - loss: 0.5626 - acc: 0.7945 - val_loss: 0.3916 - val_acc: 0.8709\n",
      "Epoch 140/250\n",
      "21000/21000 [==============================] - 1s 27us/step - loss: 0.5591 - acc: 0.7930 - val_loss: 0.3853 - val_acc: 0.8786\n",
      "Epoch 141/250\n",
      "21000/21000 [==============================] - 1s 27us/step - loss: 0.5647 - acc: 0.7908 - val_loss: 0.3840 - val_acc: 0.8770\n",
      "Epoch 142/250\n",
      "21000/21000 [==============================] - 1s 27us/step - loss: 0.5618 - acc: 0.7917 - val_loss: 0.3869 - val_acc: 0.8773\n",
      "Epoch 143/250\n",
      "21000/21000 [==============================] - 1s 27us/step - loss: 0.5598 - acc: 0.7997 - val_loss: 0.3883 - val_acc: 0.8757\n",
      "Epoch 144/250\n",
      "21000/21000 [==============================] - 1s 27us/step - loss: 0.5592 - acc: 0.7920 - val_loss: 0.3820 - val_acc: 0.8779\n",
      "Epoch 145/250\n",
      "21000/21000 [==============================] - 1s 26us/step - loss: 0.5578 - acc: 0.7961 - val_loss: 0.3794 - val_acc: 0.8811\n",
      "Epoch 146/250\n",
      "21000/21000 [==============================] - 1s 33us/step - loss: 0.5545 - acc: 0.7978 - val_loss: 0.3817 - val_acc: 0.8789\n",
      "Epoch 147/250\n",
      "21000/21000 [==============================] - 1s 26us/step - loss: 0.5574 - acc: 0.7964 - val_loss: 0.3747 - val_acc: 0.8784\n",
      "Epoch 148/250\n",
      "21000/21000 [==============================] - 1s 28us/step - loss: 0.5449 - acc: 0.7993 - val_loss: 0.3710 - val_acc: 0.8849\n",
      "Epoch 149/250\n",
      "21000/21000 [==============================] - 1s 26us/step - loss: 0.5511 - acc: 0.7988 - val_loss: 0.3724 - val_acc: 0.8817\n",
      "Epoch 150/250\n",
      "21000/21000 [==============================] - 1s 26us/step - loss: 0.5548 - acc: 0.7976 - val_loss: 0.3687 - val_acc: 0.8841\n",
      "Epoch 151/250\n",
      "21000/21000 [==============================] - 1s 26us/step - loss: 0.5506 - acc: 0.7993 - val_loss: 0.3696 - val_acc: 0.8859\n",
      "Epoch 152/250\n",
      "21000/21000 [==============================] - 1s 28us/step - loss: 0.5474 - acc: 0.8006 - val_loss: 0.3798 - val_acc: 0.8791\n",
      "Epoch 153/250\n",
      "21000/21000 [==============================] - 1s 29us/step - loss: 0.5464 - acc: 0.8008 - val_loss: 0.3738 - val_acc: 0.8807\n",
      "Epoch 154/250\n",
      "21000/21000 [==============================] - 1s 27us/step - loss: 0.5469 - acc: 0.8000 - val_loss: 0.3756 - val_acc: 0.8793\n",
      "Epoch 155/250\n",
      "21000/21000 [==============================] - 1s 38us/step - loss: 0.5574 - acc: 0.7979 - val_loss: 0.3744 - val_acc: 0.8813\n",
      "Epoch 156/250\n",
      "21000/21000 [==============================] - 1s 34us/step - loss: 0.5411 - acc: 0.8012 - val_loss: 0.3736 - val_acc: 0.8787\n",
      "Epoch 157/250\n",
      "21000/21000 [==============================] - 1s 40us/step - loss: 0.5422 - acc: 0.8039 - val_loss: 0.3664 - val_acc: 0.8809\n",
      "Epoch 158/250\n",
      "21000/21000 [==============================] - 1s 52us/step - loss: 0.5440 - acc: 0.8004 - val_loss: 0.3713 - val_acc: 0.8800\n",
      "Epoch 159/250\n",
      "21000/21000 [==============================] - 1s 26us/step - loss: 0.5474 - acc: 0.7994 - val_loss: 0.3706 - val_acc: 0.8817\n",
      "Epoch 160/250\n",
      "21000/21000 [==============================] - 1s 28us/step - loss: 0.5433 - acc: 0.8014 - val_loss: 0.3652 - val_acc: 0.8821\n",
      "Epoch 161/250\n",
      "21000/21000 [==============================] - 1s 28us/step - loss: 0.5411 - acc: 0.8028 - val_loss: 0.3651 - val_acc: 0.8799\n",
      "Epoch 162/250\n",
      "21000/21000 [==============================] - 1s 26us/step - loss: 0.5423 - acc: 0.8032 - val_loss: 0.3698 - val_acc: 0.8779\n",
      "Epoch 163/250\n",
      "21000/21000 [==============================] - 1s 27us/step - loss: 0.5401 - acc: 0.8031 - val_loss: 0.3625 - val_acc: 0.8823\n",
      "Epoch 164/250\n",
      "21000/21000 [==============================] - 1s 26us/step - loss: 0.5454 - acc: 0.8010 - val_loss: 0.3597 - val_acc: 0.8857\n",
      "Epoch 165/250\n",
      "21000/21000 [==============================] - 1s 27us/step - loss: 0.5435 - acc: 0.8025 - val_loss: 0.3593 - val_acc: 0.8846\n",
      "Epoch 166/250\n",
      "21000/21000 [==============================] - 1s 28us/step - loss: 0.5402 - acc: 0.8047 - val_loss: 0.3550 - val_acc: 0.8861\n",
      "Epoch 167/250\n",
      "21000/21000 [==============================] - 1s 27us/step - loss: 0.5470 - acc: 0.8022 - val_loss: 0.3590 - val_acc: 0.8873\n",
      "Epoch 168/250\n",
      "21000/21000 [==============================] - 1s 27us/step - loss: 0.5415 - acc: 0.8037 - val_loss: 0.3664 - val_acc: 0.8789\n",
      "Epoch 169/250\n",
      "21000/21000 [==============================] - 1s 26us/step - loss: 0.5376 - acc: 0.8041 - val_loss: 0.3546 - val_acc: 0.8864\n",
      "Epoch 170/250\n",
      "21000/21000 [==============================] - 1s 28us/step - loss: 0.5394 - acc: 0.8036 - val_loss: 0.3543 - val_acc: 0.8881\n",
      "Epoch 171/250\n",
      "21000/21000 [==============================] - 1s 28us/step - loss: 0.5301 - acc: 0.8069 - val_loss: 0.3635 - val_acc: 0.8827\n",
      "Epoch 172/250\n",
      "21000/21000 [==============================] - 1s 26us/step - loss: 0.5330 - acc: 0.8072 - val_loss: 0.3611 - val_acc: 0.8817\n",
      "Epoch 173/250\n",
      "21000/21000 [==============================] - 1s 27us/step - loss: 0.5291 - acc: 0.8058 - val_loss: 0.3529 - val_acc: 0.8889\n",
      "Epoch 174/250\n",
      "21000/21000 [==============================] - 1s 33us/step - loss: 0.5322 - acc: 0.8056 - val_loss: 0.3589 - val_acc: 0.8830\n",
      "Epoch 175/250\n",
      "21000/21000 [==============================] - 1s 37us/step - loss: 0.5328 - acc: 0.8041 - val_loss: 0.3504 - val_acc: 0.8883\n",
      "Epoch 176/250\n",
      "21000/21000 [==============================] - 1s 30us/step - loss: 0.5254 - acc: 0.8087 - val_loss: 0.3515 - val_acc: 0.8860\n",
      "Epoch 177/250\n",
      "21000/21000 [==============================] - 1s 31us/step - loss: 0.5327 - acc: 0.8052 - val_loss: 0.3483 - val_acc: 0.8893\n",
      "Epoch 178/250\n",
      "21000/21000 [==============================] - 1s 28us/step - loss: 0.5335 - acc: 0.8052 - val_loss: 0.3477 - val_acc: 0.8891\n",
      "Epoch 179/250\n",
      "21000/21000 [==============================] - 1s 29us/step - loss: 0.5304 - acc: 0.8023 - val_loss: 0.3500 - val_acc: 0.8873\n",
      "Epoch 180/250\n",
      "21000/21000 [==============================] - 1s 27us/step - loss: 0.5200 - acc: 0.8090 - val_loss: 0.3540 - val_acc: 0.8854\n",
      "Epoch 181/250\n",
      "21000/21000 [==============================] - 1s 31us/step - loss: 0.5261 - acc: 0.8105 - val_loss: 0.3483 - val_acc: 0.8853\n",
      "Epoch 182/250\n",
      "21000/21000 [==============================] - 1s 28us/step - loss: 0.5233 - acc: 0.8088 - val_loss: 0.3471 - val_acc: 0.8890\n",
      "Epoch 183/250\n",
      "21000/21000 [==============================] - 1s 32us/step - loss: 0.5232 - acc: 0.8108 - val_loss: 0.3502 - val_acc: 0.8844\n",
      "Epoch 184/250\n",
      "21000/21000 [==============================] - 1s 28us/step - loss: 0.5200 - acc: 0.8128 - val_loss: 0.3494 - val_acc: 0.8843\n",
      "Epoch 185/250\n",
      "21000/21000 [==============================] - 1s 28us/step - loss: 0.5212 - acc: 0.8107 - val_loss: 0.3514 - val_acc: 0.8854\n",
      "Epoch 186/250\n",
      "21000/21000 [==============================] - 1s 28us/step - loss: 0.5244 - acc: 0.8109 - val_loss: 0.3510 - val_acc: 0.8863\n",
      "Epoch 187/250\n",
      "21000/21000 [==============================] - 1s 31us/step - loss: 0.5301 - acc: 0.8060 - val_loss: 0.3459 - val_acc: 0.8863\n",
      "Epoch 188/250\n",
      "21000/21000 [==============================] - 1s 28us/step - loss: 0.5283 - acc: 0.8075 - val_loss: 0.3499 - val_acc: 0.8893\n",
      "Epoch 189/250\n",
      "21000/21000 [==============================] - 1s 29us/step - loss: 0.5237 - acc: 0.8083 - val_loss: 0.3500 - val_acc: 0.8866\n",
      "Epoch 190/250\n",
      "21000/21000 [==============================] - 1s 30us/step - loss: 0.5160 - acc: 0.8114 - val_loss: 0.3381 - val_acc: 0.8926\n",
      "Epoch 191/250\n",
      "21000/21000 [==============================] - 1s 27us/step - loss: 0.5142 - acc: 0.8130 - val_loss: 0.3386 - val_acc: 0.8916\n",
      "Epoch 192/250\n",
      "21000/21000 [==============================] - 1s 30us/step - loss: 0.5098 - acc: 0.8132 - val_loss: 0.3381 - val_acc: 0.8924\n",
      "Epoch 193/250\n",
      "21000/21000 [==============================] - 1s 28us/step - loss: 0.5143 - acc: 0.8140 - val_loss: 0.3367 - val_acc: 0.8936\n",
      "Epoch 194/250\n",
      "21000/21000 [==============================] - 1s 28us/step - loss: 0.5190 - acc: 0.8128 - val_loss: 0.3414 - val_acc: 0.8896\n",
      "Epoch 195/250\n",
      "21000/21000 [==============================] - 1s 32us/step - loss: 0.5098 - acc: 0.8140 - val_loss: 0.3420 - val_acc: 0.8897\n",
      "Epoch 196/250\n",
      "21000/21000 [==============================] - 1s 29us/step - loss: 0.5208 - acc: 0.8101 - val_loss: 0.3455 - val_acc: 0.8873\n",
      "Epoch 197/250\n",
      "21000/21000 [==============================] - 1s 27us/step - loss: 0.5150 - acc: 0.8119 - val_loss: 0.3425 - val_acc: 0.8889\n",
      "Epoch 198/250\n",
      "21000/21000 [==============================] - 1s 30us/step - loss: 0.5176 - acc: 0.8110 - val_loss: 0.3414 - val_acc: 0.8904\n",
      "Epoch 199/250\n",
      "21000/21000 [==============================] - 1s 30us/step - loss: 0.5151 - acc: 0.8106 - val_loss: 0.3384 - val_acc: 0.8927\n",
      "Epoch 200/250\n",
      "21000/21000 [==============================] - 1s 29us/step - loss: 0.5135 - acc: 0.8141 - val_loss: 0.3429 - val_acc: 0.8894\n",
      "Epoch 201/250\n",
      "21000/21000 [==============================] - 1s 28us/step - loss: 0.5096 - acc: 0.8139 - val_loss: 0.3391 - val_acc: 0.8930\n",
      "Epoch 202/250\n",
      "21000/21000 [==============================] - 1s 28us/step - loss: 0.5170 - acc: 0.8126 - val_loss: 0.3393 - val_acc: 0.8904\n",
      "Epoch 203/250\n",
      "21000/21000 [==============================] - 1s 26us/step - loss: 0.5092 - acc: 0.8140 - val_loss: 0.3356 - val_acc: 0.8924\n",
      "Epoch 204/250\n",
      "21000/21000 [==============================] - 1s 28us/step - loss: 0.5143 - acc: 0.8101 - val_loss: 0.3465 - val_acc: 0.8856\n",
      "Epoch 205/250\n",
      "21000/21000 [==============================] - 1s 27us/step - loss: 0.5076 - acc: 0.8174 - val_loss: 0.3421 - val_acc: 0.8883\n",
      "Epoch 206/250\n",
      "21000/21000 [==============================] - 1s 30us/step - loss: 0.5080 - acc: 0.8162 - val_loss: 0.3332 - val_acc: 0.8940\n",
      "Epoch 207/250\n",
      "21000/21000 [==============================] - 1s 28us/step - loss: 0.5058 - acc: 0.8180 - val_loss: 0.3385 - val_acc: 0.8924\n",
      "Epoch 208/250\n",
      "21000/21000 [==============================] - 1s 28us/step - loss: 0.5101 - acc: 0.8108 - val_loss: 0.3308 - val_acc: 0.8930\n",
      "Epoch 209/250\n",
      "21000/21000 [==============================] - 1s 27us/step - loss: 0.5130 - acc: 0.8132 - val_loss: 0.3375 - val_acc: 0.8913\n",
      "Epoch 210/250\n",
      "21000/21000 [==============================] - 1s 28us/step - loss: 0.5074 - acc: 0.8135 - val_loss: 0.3319 - val_acc: 0.8926\n",
      "Epoch 211/250\n",
      "21000/21000 [==============================] - 1s 27us/step - loss: 0.5011 - acc: 0.8166 - val_loss: 0.3382 - val_acc: 0.8884\n",
      "Epoch 212/250\n",
      "21000/21000 [==============================] - 1s 27us/step - loss: 0.5018 - acc: 0.8180 - val_loss: 0.3361 - val_acc: 0.8901\n",
      "Epoch 213/250\n",
      "21000/21000 [==============================] - 1s 28us/step - loss: 0.5035 - acc: 0.8154 - val_loss: 0.3405 - val_acc: 0.8853\n",
      "Epoch 214/250\n",
      "21000/21000 [==============================] - 1s 28us/step - loss: 0.5119 - acc: 0.8121 - val_loss: 0.3340 - val_acc: 0.8903\n",
      "Epoch 215/250\n",
      "21000/21000 [==============================] - 1s 26us/step - loss: 0.5079 - acc: 0.8139 - val_loss: 0.3381 - val_acc: 0.8884\n",
      "Epoch 216/250\n",
      "21000/21000 [==============================] - 1s 26us/step - loss: 0.5065 - acc: 0.8159 - val_loss: 0.3285 - val_acc: 0.8973\n",
      "Epoch 217/250\n",
      "21000/21000 [==============================] - 1s 25us/step - loss: 0.5094 - acc: 0.8139 - val_loss: 0.3268 - val_acc: 0.8946\n",
      "Epoch 218/250\n",
      "21000/21000 [==============================] - 1s 26us/step - loss: 0.4973 - acc: 0.8167 - val_loss: 0.3368 - val_acc: 0.8893\n",
      "Epoch 219/250\n",
      "21000/21000 [==============================] - 1s 25us/step - loss: 0.5046 - acc: 0.8177 - val_loss: 0.3336 - val_acc: 0.8931\n",
      "Epoch 220/250\n",
      "21000/21000 [==============================] - 1s 25us/step - loss: 0.4993 - acc: 0.8186 - val_loss: 0.3256 - val_acc: 0.8974\n",
      "Epoch 221/250\n",
      "21000/21000 [==============================] - 1s 27us/step - loss: 0.5025 - acc: 0.8166 - val_loss: 0.3325 - val_acc: 0.8900\n",
      "Epoch 222/250\n",
      "21000/21000 [==============================] - 1s 27us/step - loss: 0.5054 - acc: 0.8162 - val_loss: 0.3241 - val_acc: 0.8973\n",
      "Epoch 223/250\n",
      "21000/21000 [==============================] - 1s 27us/step - loss: 0.4977 - acc: 0.8166 - val_loss: 0.3344 - val_acc: 0.8873\n",
      "Epoch 224/250\n",
      "21000/21000 [==============================] - 1s 29us/step - loss: 0.5011 - acc: 0.8204 - val_loss: 0.3369 - val_acc: 0.8873\n",
      "Epoch 225/250\n",
      "21000/21000 [==============================] - 1s 27us/step - loss: 0.5012 - acc: 0.8203 - val_loss: 0.3338 - val_acc: 0.8897\n",
      "Epoch 226/250\n",
      "21000/21000 [==============================] - 1s 27us/step - loss: 0.5024 - acc: 0.8176 - val_loss: 0.3265 - val_acc: 0.8946\n",
      "Epoch 227/250\n",
      "21000/21000 [==============================] - 1s 27us/step - loss: 0.4951 - acc: 0.8208 - val_loss: 0.3297 - val_acc: 0.8909\n",
      "Epoch 228/250\n",
      "21000/21000 [==============================] - 1s 26us/step - loss: 0.4937 - acc: 0.8190 - val_loss: 0.3263 - val_acc: 0.8950\n",
      "Epoch 229/250\n",
      "21000/21000 [==============================] - 1s 26us/step - loss: 0.4943 - acc: 0.8200 - val_loss: 0.3262 - val_acc: 0.8941\n",
      "Epoch 230/250\n"
     ]
    },
    {
     "name": "stdout",
     "output_type": "stream",
     "text": [
      "21000/21000 [==============================] - 1s 28us/step - loss: 0.4946 - acc: 0.8209 - val_loss: 0.3228 - val_acc: 0.8987\n",
      "Epoch 231/250\n",
      "21000/21000 [==============================] - 1s 31us/step - loss: 0.4965 - acc: 0.8196 - val_loss: 0.3241 - val_acc: 0.8964\n",
      "Epoch 232/250\n",
      "21000/21000 [==============================] - 1s 31us/step - loss: 0.4947 - acc: 0.8198 - val_loss: 0.3222 - val_acc: 0.8961\n",
      "Epoch 233/250\n",
      "21000/21000 [==============================] - 1s 27us/step - loss: 0.4927 - acc: 0.8200 - val_loss: 0.3260 - val_acc: 0.8961\n",
      "Epoch 234/250\n",
      "21000/21000 [==============================] - 1s 32us/step - loss: 0.4913 - acc: 0.8235 - val_loss: 0.3193 - val_acc: 0.8971\n",
      "Epoch 235/250\n",
      "21000/21000 [==============================] - 1s 30us/step - loss: 0.5001 - acc: 0.8182 - val_loss: 0.3172 - val_acc: 0.8960\n",
      "Epoch 236/250\n",
      "21000/21000 [==============================] - 1s 35us/step - loss: 0.4974 - acc: 0.8173 - val_loss: 0.3208 - val_acc: 0.8986\n",
      "Epoch 237/250\n",
      "21000/21000 [==============================] - 1s 31us/step - loss: 0.4958 - acc: 0.8206 - val_loss: 0.3247 - val_acc: 0.8926\n",
      "Epoch 238/250\n",
      "21000/21000 [==============================] - 1s 29us/step - loss: 0.4870 - acc: 0.8224 - val_loss: 0.3153 - val_acc: 0.8987\n",
      "Epoch 239/250\n",
      "21000/21000 [==============================] - 1s 32us/step - loss: 0.4934 - acc: 0.8207 - val_loss: 0.3281 - val_acc: 0.8917\n",
      "Epoch 240/250\n",
      "21000/21000 [==============================] - 1s 34us/step - loss: 0.4946 - acc: 0.8171 - val_loss: 0.3203 - val_acc: 0.8974\n",
      "Epoch 241/250\n",
      "21000/21000 [==============================] - 1s 27us/step - loss: 0.4886 - acc: 0.8248 - val_loss: 0.3199 - val_acc: 0.8956\n",
      "Epoch 242/250\n",
      "21000/21000 [==============================] - 1s 26us/step - loss: 0.4965 - acc: 0.8184 - val_loss: 0.3222 - val_acc: 0.8941\n",
      "Epoch 243/250\n",
      "21000/21000 [==============================] - 1s 26us/step - loss: 0.4937 - acc: 0.8206 - val_loss: 0.3162 - val_acc: 0.8967\n",
      "Epoch 244/250\n",
      "21000/21000 [==============================] - 1s 28us/step - loss: 0.4860 - acc: 0.8242 - val_loss: 0.3158 - val_acc: 0.8967\n",
      "Epoch 245/250\n",
      "21000/21000 [==============================] - 1s 27us/step - loss: 0.4869 - acc: 0.8222 - val_loss: 0.3159 - val_acc: 0.8980\n",
      "Epoch 246/250\n",
      "21000/21000 [==============================] - 1s 28us/step - loss: 0.4948 - acc: 0.8181 - val_loss: 0.3170 - val_acc: 0.8980\n",
      "Epoch 247/250\n",
      "21000/21000 [==============================] - 1s 28us/step - loss: 0.4802 - acc: 0.8253 - val_loss: 0.3188 - val_acc: 0.8966\n",
      "Epoch 248/250\n",
      "21000/21000 [==============================] - 1s 28us/step - loss: 0.5013 - acc: 0.8163 - val_loss: 0.3164 - val_acc: 0.8969\n",
      "Epoch 249/250\n",
      "21000/21000 [==============================] - 1s 28us/step - loss: 0.4908 - acc: 0.8206 - val_loss: 0.3232 - val_acc: 0.8947\n",
      "Epoch 250/250\n",
      "21000/21000 [==============================] - 1s 27us/step - loss: 0.4865 - acc: 0.8269 - val_loss: 0.3164 - val_acc: 0.8973\n"
     ]
    }
   ],
   "source": [
    "#RNN model\n",
    "rnnmodel = Sequential()\n",
    "rnnmodel.add(LSTM(200, input_shape=(train_fea[0].shape[1],train_fea[0].shape[2]), dropout_U = 0.2, dropout_W = 0.2))\n",
    "rnnmodel.add(Dense(n_classes,activation='softmax'))\n",
    "rnnmodel.compile(loss = 'categorical_crossentropy', optimizer='adam',metrics = ['accuracy'])\n",
    "print(rnnmodel.summary())\n",
    "plot_model(rnnmodel, to_file='LSTM.png')\n",
    "rnnmodel_result = rnnmodel.fit(train_fea[0], train_label[0], batch_size=500, validation_data=(test_fea[0],test_label[0]), epochs=epochs)\n",
    "result = rnnmodel_result"
   ]
  },
  {
   "cell_type": "code",
   "execution_count": 12,
   "metadata": {},
   "outputs": [
    {
     "data": {
      "image/png": "[encoded data removed]",
      "text/plain": [
       "<Figure size 432x288 with 1 Axes>"
      ]
     },
     "metadata": {
      "needs_background": "light"
     },
     "output_type": "display_data"
    },
    {
     "data": {
      "image/png": "[encoded data removed]",
      "text/plain": [
       "<Figure size 432x288 with 1 Axes>"
      ]
     },
     "metadata": {
      "needs_background": "light"
     },
     "output_type": "display_data"
    }
   ],
   "source": [
    "# Plot training & validation accuracy values\n",
    "plt.plot(rnnmodel_result.history['acc'])\n",
    "plt.plot(rnnmodel_result.history['val_acc'])\n",
    "plt.title('Model accuracy')\n",
    "plt.ylabel('Accuracy')\n",
    "plt.xlabel('Epoch')\n",
    "plt.legend(['Train', 'Test'], loc='upper left')\n",
    "plt.show()\n",
    "\n",
    "# Plot training & validation loss values\n",
    "plt.plot(rnnmodel_result.history['loss'])\n",
    "plt.plot(rnnmodel_result.history['val_loss'])\n",
    "plt.title('Model loss')\n",
    "plt.ylabel('Loss')\n",
    "plt.xlabel('Epoch')\n",
    "plt.legend(['Train', 'Test'], loc='upper left')\n",
    "plt.show()"
   ]
  },
  {
   "cell_type": "code",
   "execution_count": 13,
   "metadata": {},
   "outputs": [
    {
     "name": "stdout",
     "output_type": "stream",
     "text": [
      "<-------RNN Final Metrics------->\n",
      "Loss     =  0.3163649471742766\n",
      "Accuracy =  0.8972857126167842\n"
     ]
    }
   ],
   "source": [
    "#RNN final metrics\n",
    "print(\"<-------RNN Final Metrics------->\")\n",
    "print(\"Loss     = \",rnnmodel_result.history['val_loss'][epochs-1])\n",
    "print(\"Accuracy = \",rnnmodel_result.history['val_acc'][epochs-1])"
   ]
  },
  {
   "cell_type": "code",
   "execution_count": 14,
   "metadata": {},
   "outputs": [
    {
     "name": "stdout",
     "output_type": "stream",
     "text": [
      "(28000, 200)\n"
     ]
    }
   ],
   "source": [
    "get_rnn_output = K.function([rnnmodel.layers[0].input],[rnnmodel.layers[0].output])\n",
    "rnn_fea1 = get_rnn_output([train_fea[0]])\n",
    "rnn_fea2 = get_rnn_output([test_fea[0]])\n",
    "rnn_fea = np.hstack((rnn_fea1,rnn_fea2))\n",
    "print(rnn_fea[0].shape)"
   ]
  },
  {
   "cell_type": "code",
   "execution_count": 15,
   "metadata": {},
   "outputs": [
    {
     "name": "stdout",
     "output_type": "stream",
     "text": [
      "(28000, 100) (28000, 200)\n",
      "300\n",
      "(21000, 300)\n",
      "(21000, 6)\n",
      "(7000, 300)\n",
      "(7000, 6)\n"
     ]
    }
   ],
   "source": [
    "#######Dense model\n",
    "print(cnn_fea[0].shape,rnn_fea[0].shape)\n",
    "feature_all=np.hstack((cnn_fea[0],rnn_fea[0]))\n",
    "no_fea=feature_all.shape[-1]\n",
    "print(no_fea)\n",
    "\n",
    "middle_number=int(28000*3/4)\n",
    "feature_training =feature_all[0:middle_number]\n",
    "feature_testing =feature_all[middle_number:final]\n",
    "label_training =label_all[0:middle_number]\n",
    "label_testing =label_all[middle_number:final]\n",
    "##AE\n",
    "\n",
    "feature_all=feature_all\n",
    "\n",
    "train_fea=feature_all[0:middle_number]\n",
    "test_fea=feature_all[middle_number:final]\n",
    "print(train_fea.shape)\n",
    "print(train_label[0].shape)\n",
    "print(test_fea.shape)\n",
    "print(test_label[0].shape)"
   ]
  },
  {
   "cell_type": "code",
   "execution_count": 16,
   "metadata": {},
   "outputs": [
    {
     "name": "stdout",
     "output_type": "stream",
     "text": [
      "_________________________________________________________________\n",
      "Layer (type)                 Output Shape              Param #   \n",
      "=================================================================\n",
      "dense_4 (Dense)              (None, 30)                9030      \n",
      "_________________________________________________________________\n",
      "dense_5 (Dense)              (None, 6)                 186       \n",
      "=================================================================\n",
      "Total params: 9,216\n",
      "Trainable params: 9,216\n",
      "Non-trainable params: 0\n",
      "_________________________________________________________________\n",
      "None\n",
      "Train on 21000 samples, validate on 7000 samples\n",
      "Epoch 1/10\n",
      "21000/21000 [==============================] - 2s 73us/step - loss: 0.5120 - acc: 0.8457 - val_loss: 0.1262 - val_acc: 0.9670\n",
      "Epoch 2/10\n",
      "21000/21000 [==============================] - 1s 52us/step - loss: 0.0427 - acc: 0.9932 - val_loss: 0.0799 - val_acc: 0.9756\n",
      "Epoch 3/10\n",
      "21000/21000 [==============================] - 1s 64us/step - loss: 0.0245 - acc: 0.9941 - val_loss: 0.0685 - val_acc: 0.9757\n",
      "Epoch 4/10\n",
      "21000/21000 [==============================] - 1s 40us/step - loss: 0.0190 - acc: 0.9941 - val_loss: 0.0631 - val_acc: 0.9777\n",
      "Epoch 5/10\n",
      "21000/21000 [==============================] - 1s 45us/step - loss: 0.0165 - acc: 0.9945 - val_loss: 0.0605 - val_acc: 0.9763\n",
      "Epoch 6/10\n",
      "21000/21000 [==============================] - 1s 32us/step - loss: 0.0152 - acc: 0.9943 - val_loss: 0.0601 - val_acc: 0.9783\n",
      "Epoch 7/10\n",
      "21000/21000 [==============================] - 1s 32us/step - loss: 0.0142 - acc: 0.9944 - val_loss: 0.0576 - val_acc: 0.9784\n",
      "Epoch 8/10\n",
      "21000/21000 [==============================] - 1s 36us/step - loss: 0.0136 - acc: 0.9940 - val_loss: 0.0581 - val_acc: 0.9781\n",
      "Epoch 9/10\n",
      "21000/21000 [==============================] - 1s 29us/step - loss: 0.0131 - acc: 0.9943 - val_loss: 0.0571 - val_acc: 0.9784\n",
      "Epoch 10/10\n",
      "21000/21000 [==============================] - 1s 32us/step - loss: 0.0133 - acc: 0.9940 - val_loss: 0.0564 - val_acc: 0.9793\n"
     ]
    }
   ],
   "source": [
    "#Dense model\n",
    "epochs=10\n",
    "fcc = Sequential()\n",
    "fcc.add(Dense(30, activation='relu',input_shape=(train_fea.shape[1],)))\n",
    "fcc.add(Dense(n_classes,activation='softmax'))\n",
    "fcc.compile(loss='categorical_crossentropy', optimizer=Adam(), metrics=['accuracy'])\n",
    "print(fcc.summary())\n",
    "fcc_result = fcc.fit(train_fea, train_label[0], batch_size=100, validation_data=(test_fea,test_label[0]), epochs=epochs)\n",
    "plot_model(fcc, to_file='dense.png')"
   ]
  },
  {
   "cell_type": "code",
   "execution_count": 17,
   "metadata": {},
   "outputs": [
    {
     "data": {
      "image/png": "[encoded data removed]",
      "text/plain": [
       "<Figure size 432x288 with 1 Axes>"
      ]
     },
     "metadata": {
      "needs_background": "light"
     },
     "output_type": "display_data"
    },
    {
     "data": {
      "image/png": "[encoded data removed]",
      "text/plain": [
       "<Figure size 432x288 with 1 Axes>"
      ]
     },
     "metadata": {
      "needs_background": "light"
     },
     "output_type": "display_data"
    }
   ],
   "source": [
    "# Plot training & validation accuracy values\n",
    "plt.plot(fcc_result.history['acc'])\n",
    "plt.plot(fcc_result.history['val_acc'])\n",
    "plt.title('Model accuracy')\n",
    "plt.ylabel('Accuracy')\n",
    "plt.xlabel('Epoch')\n",
    "plt.legend(['Train', 'Test'], loc='upper left')\n",
    "plt.show()\n",
    "\n",
    "# Plot training & validation loss values\n",
    "plt.plot(fcc_result.history['loss'])\n",
    "plt.plot(fcc_result.history['val_loss'])\n",
    "plt.title('Model loss')\n",
    "plt.ylabel('Loss')\n",
    "plt.xlabel('Epoch')\n",
    "plt.legend(['Train', 'Test'], loc='upper left')\n",
    "plt.show()"
   ]
  },
  {
   "cell_type": "code",
   "execution_count": 18,
   "metadata": {},
   "outputs": [
    {
     "name": "stdout",
     "output_type": "stream",
     "text": [
      "<-------FCC Final Metrics------->\n",
      "Loss     =  0.056394904891827274\n",
      "Accuracy =  0.9792857255254473\n"
     ]
    }
   ],
   "source": [
    "#FCC final metrics\n",
    "print(\"<-------FCC Final Metrics------->\")\n",
    "print(\"Loss     = \",fcc_result.history['val_loss'][epochs-1])\n",
    "print(\"Accuracy = \",fcc_result.history['val_acc'][epochs-1])"
   ]
  },
  {
   "cell_type": "code",
   "execution_count": 19,
   "metadata": {},
   "outputs": [
    {
     "name": "stdout",
     "output_type": "stream",
     "text": [
      "(28000, 30)\n"
     ]
    }
   ],
   "source": [
    "get_fcc_output = K.function([fcc.layers[0].input],[fcc.layers[0].output])\n",
    "fcc_fea1 = get_fcc_output([train_fea])\n",
    "fcc_fea2 = get_fcc_output([test_fea])\n",
    "fcc_fea = np.hstack((fcc_fea1,fcc_fea2))\n",
    "print(fcc_fea[0].shape)"
   ]
  },
  {
   "cell_type": "code",
   "execution_count": 20,
   "metadata": {},
   "outputs": [
    {
     "data": {
      "image/png": "[encoded data removed]",
      "text/plain": [
       "<Figure size 432x288 with 1 Axes>"
      ]
     },
     "metadata": {
      "needs_background": "light"
     },
     "output_type": "display_data"
    },
    {
     "data": {
      "image/png": "[encoded data removed]",
      "text/plain": [
       "<Figure size 432x288 with 1 Axes>"
      ]
     },
     "metadata": {
      "needs_background": "light"
     },
     "output_type": "display_data"
    },
    {
     "name": "stdout",
     "output_type": "stream",
     "text": [
      "Accuracy: 97.19%\n"
     ]
    }
   ],
   "source": [
    "######## XGBoost \n",
    "train_fea = fcc_fea[0][0:middle_number]\n",
    "test_fea = fcc_fea[0][middle_number:final]\n",
    "#removing one-hot-encode for XGBClaasifier\n",
    "train_lab = []\n",
    "test_lab = []\n",
    "for i in range(label_training.shape[0]):\n",
    "    train_lab.append(np.argmax(label_training[i]))\n",
    "for i in range(label_testing.shape[0]):\n",
    "    test_lab.append(np.argmax(label_testing[i]))\n",
    "#fit model on training data\n",
    "xgbmodel = XGBClassifier()\n",
    "xgbmodel.fit(train_fea, train_lab)\n",
    "#make predictions\n",
    "y_pred = xgbmodel.predict(test_fea)\n",
    "#evaluate predictions\n",
    "accuracy = accuracy_score(test_lab, y_pred)\n",
    "# Plot training & validation accuracy values\n",
    "plt.plot(result.history['acc'])\n",
    "plt.plot(result.history['val_acc'])\n",
    "plt.title('Model accuracy')\n",
    "plt.ylabel('Accuracy')\n",
    "plt.xlabel('Epoch')\n",
    "plt.legend(['Train', 'Test'], loc='upper left')\n",
    "plt.show()\n",
    "\n",
    "# Plot training & validation loss values\n",
    "plt.plot(result.history['loss'])\n",
    "plt.plot(result.history['val_loss'])\n",
    "plt.title('Model loss')\n",
    "plt.ylabel('Loss')\n",
    "plt.xlabel('Epoch')\n",
    "plt.legend(['Train', 'Test'], loc='upper left')\n",
    "plt.show()\n",
    "print(\"Accuracy: %.2f%%\" % (accuracy * 100.0))"
   ]
  },
  {
   "cell_type": "code",
   "execution_count": 21,
   "metadata": {},
   "outputs": [
    {
     "name": "stdout",
     "output_type": "stream",
     "text": [
      "28000 28000\n"
     ]
    }
   ],
   "source": [
    "print(len(ft),len(lt))\n",
    "ltt = []\n",
    "for i in range(lt.shape[0]):\n",
    "    ltt.append(np.argmax(lt[i]))\n",
    "y1 = [ft[x] for x in range(len(ft)) if ltt[x] == 1]\n",
    "y2 = [ft[x] for x in range(len(ft)) if ltt[x] == 2]\n",
    "y3 = [ft[x] for x in range(len(ft)) if ltt[x] == 3]\n",
    "y4 = [ft[x] for x in range(len(ft)) if ltt[x] == 4]\n",
    "y5 = [ft[x] for x in range(len(ft)) if ltt[x] == 5]"
   ]
  },
  {
   "cell_type": "code",
   "execution_count": null,
   "metadata": {},
   "outputs": [],
   "source": []
  },
  {
   "cell_type": "code",
   "execution_count": 22,
   "metadata": {},
   "outputs": [],
   "source": [
    "def get_morse(sequence):\n",
    "\n",
    "    #getting output from models\n",
    "    get_cnn_output = K.function([cnnmodel.layers[0].input],[cnnmodel.layers[5].output])\n",
    "    get_rnn_output = K.function([rnnmodel.layers[0].input],[rnnmodel.layers[0].output])\n",
    "    get_fcc_output = K.function([fcc.layers[0].input],[fcc.layers[0].output])\n",
    "\n",
    "    cnn_out = []\n",
    "    for i in range(len(sequence)):\n",
    "        train_fea_re = sequence[i].reshape(1, sequence[i].shape[0], 1).astype('float32')\n",
    "        out = get_cnn_output([train_fea_re])\n",
    "        cnn_out.append(out[0][0])\n",
    "    rnn_out = []\n",
    "    for i in range(len(sequence)):\n",
    "        train_fea_re = sequence[i].reshape([1,1,64]).astype('float32')\n",
    "        out = get_rnn_output([train_fea_re])\n",
    "        rnn_out.append(out[0][0])\n",
    "    fcc_out = []\n",
    "    for i in range(len(sequence)):\n",
    "        train = []\n",
    "        train.extend(cnn_out[i])\n",
    "        train.extend(rnn_out[i])\n",
    "        train = np.asarray(train)\n",
    "        train_fea_re = train.reshape(1,300).astype('float32')\n",
    "        out = get_fcc_output([train_fea_re])\n",
    "        fcc_out.append(out[0][0])  \n",
    "    xgb_out = ''\n",
    "    for i in range(len(sequence)):\n",
    "        train = np.asarray(fcc_out[i])\n",
    "        train_fea_re = train.reshape(1,30).astype('float32')\n",
    "        out = xgbmodel.predict(train_fea_re)\n",
    "        if out == 3:\n",
    "            xgb_out = xgb_out + '/'\n",
    "        else:\n",
    "            xgb_out = xgb_out + (str)(out[0]-1)\n",
    "    return(xgb_out)\n",
    "\n",
    "def morse_text(morse):\n",
    "    code={' ':' ','a':'01','b':'1000','c':'1010','d':'100','e':'0','f':'0010',\n",
    "      'g':'110','h':'0000','i':'00','j':'0111','k':'101','l':'0100','m':'11',\n",
    "      'n':'10','o':'111','p':'0110','q':'1101','r':'010','s':'000','t':'1',\n",
    "      'u':'001','v':'0001','w':'011','x':'1001','y':'1011','z':'1100'}\n",
    "    blah=morse.split('/') \n",
    "    output=[]\n",
    "    ans = \"\"\n",
    "    for i in blah:\n",
    "        output.append(i.split())\n",
    "    for i in output:\n",
    "        for j in i:\n",
    "            for cde, value in code.items():\n",
    "                if value == j:\n",
    "                    ans = ans + cde \n",
    "    return(ans)"
   ]
  },
  {
   "cell_type": "code",
   "execution_count": 23,
   "metadata": {},
   "outputs": [],
   "source": [
    "label_b_m = {\n",
    "    '0': y1,\n",
    "    '1': y2,\n",
    "    '/': y3,\n",
    "}\n",
    "def run(ip=None):\n",
    "    if not ip:\n",
    "        ip = input(\"Enter file name => \")  \n",
    "    sequence = pandas.read_csv(ip, header=None).values\n",
    "    op = get_morse(sequence)\n",
    "    return morse_text(op)"
   ]
  },
  {
   "cell_type": "code",
   "execution_count": 24,
   "metadata": {},
   "outputs": [],
   "source": [
    "def phrase(ip=None):\n",
    "    if not ip:\n",
    "        ip = input()\n",
    "\n",
    "    code={' ':' ','a':'01','b':'1000','c':'1010','d':'100','e':'0','f':'0010',\n",
    "      'g':'110','h':'0000','i':'00','j':'0111','k':'101','l':'0100','m':'11',\n",
    "      'n':'10','o':'111','p':'0110','q':'1101','r':'010','s':'000','t':'1',\n",
    "      'u':'001','v':'0001','w':'011','x':'1001','y':'1011','z':'1100'}\n",
    "\n",
    "    morse_ = ''\n",
    "    for i in ip:\n",
    "        morse_ += code[i] + '/'\n",
    "    morse_ = morse_[:-1]\n",
    "        #generating sequence\n",
    "    sequence = []\n",
    "\n",
    "    for i in morse_:\n",
    "        sequence.append(random.choice(label_b_m[i]))\n",
    "    op = get_morse(sequence)\n",
    "    return morse_text(op)"
   ]
  },
  {
   "cell_type": "code",
   "execution_count": 25,
   "metadata": {
    "scrolled": true
   },
   "outputs": [
    {
     "data": {
      "text/plain": [
       "'h'"
      ]
     },
     "execution_count": 25,
     "metadata": {},
     "output_type": "execute_result"
    }
   ],
   "source": [
    "run('h.csv')"
   ]
  },
  {
   "cell_type": "code",
   "execution_count": 26,
   "metadata": {},
   "outputs": [
    {
     "data": {
      "text/plain": [
       "'revieutwo'"
      ]
     },
     "execution_count": 26,
     "metadata": {},
     "output_type": "execute_result"
    }
   ],
   "source": [
    "phrase('reviewtwo')"
   ]
  },
  {
   "cell_type": "code",
   "execution_count": null,
   "metadata": {},
   "outputs": [],
   "source": []
  }
 ],
 "metadata": {
  "kernelspec": {
   "display_name": "Python 3",
   "language": "python",
   "name": "python3"
  },
  "language_info": {
   "codemirror_mode": {
    "name": "ipython",
    "version": 3
   },
   "file_extension": ".py",
   "mimetype": "text/x-python",
   "name": "python",
   "nbconvert_exporter": "python",
   "pygments_lexer": "ipython3",
   "version": "3.7.0"
  }
 },
 "nbformat": 4,
 "nbformat_minor": 2
}
