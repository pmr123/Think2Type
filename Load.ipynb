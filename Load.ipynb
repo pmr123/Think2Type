{
 "cells": [
  {
   "cell_type": "code",
   "execution_count": 1,
   "metadata": {},
   "outputs": [
    {
     "name": "stderr",
     "output_type": "stream",
     "text": [
      "Using TensorFlow backend.\n"
     ]
    }
   ],
   "source": [
    "import warnings\n",
    "warnings.filterwarnings('ignore')\n",
    "\n",
    "import scipy.io as sc\n",
    "import numpy as np\n",
    "import random\n",
    "import sys\n",
    "\n",
    "from sklearn import preprocessing\n",
    "\n",
    "from keras import backend as K\n",
    "\n",
    "from keras.models import load_model\n",
    "\n",
    "from xgboost import XGBClassifier\n",
    "\n",
    "import pickle"
   ]
  },
  {
   "cell_type": "code",
   "execution_count": 2,
   "metadata": {},
   "outputs": [],
   "source": [
    "# this function is used to transfer one column label to one hot label\n",
    "def one_hot(y_):\n",
    "    # Function to encode output labels from number indexes\n",
    "    # e.g.: [[5], [0], [3]] --> [[0, 0, 0, 0, 0, 1], [1, 0, 0, 0, 0, 0], [0, 0, 0, 1, 0, 0]]\n",
    "    y_ = y_.reshape(len(y_))\n",
    "    n_values = np.max(y_) + 1\n",
    "    return np.eye(n_values)[np.array(y_, dtype=np.int32)]"
   ]
  },
  {
   "cell_type": "code",
   "execution_count": 3,
   "metadata": {},
   "outputs": [
    {
     "name": "stdout",
     "output_type": "stream",
     "text": [
      "(29738, 65)\n",
      "(28000, 6)\n"
     ]
    }
   ],
   "source": [
    "#  Data loading\n",
    "feature = sc.loadmat(\"S1_nolabel6.mat\")\n",
    "all = feature['S1_nolabel6']\n",
    "print (all.shape)\n",
    "\n",
    "np.random.shuffle(all)   # mix eeg_all\n",
    "\n",
    "final=2800*10\n",
    "all=all[0:final]\n",
    "feature_all =all[:,0:64]\n",
    "label=all[:,64:65]\n",
    "\n",
    "#z-score\n",
    "feature_all=preprocessing.scale(feature_all)\n",
    "ft = feature_all\n",
    "no_fea=feature_all.shape[-1]\n",
    "label_all=one_hot(label)\n",
    "lt = label_all\n",
    "print (label_all.shape)"
   ]
  },
  {
   "cell_type": "code",
   "execution_count": 4,
   "metadata": {},
   "outputs": [
    {
     "name": "stdout",
     "output_type": "stream",
     "text": [
      "WARNING:tensorflow:From C:\\Users\\prateek\\Anaconda3\\envs\\idp\\lib\\site-packages\\tensorflow\\python\\framework\\op_def_library.py:263: colocate_with (from tensorflow.python.framework.ops) is deprecated and will be removed in a future version.\n",
      "Instructions for updating:\n",
      "Colocations handled automatically by placer.\n",
      "WARNING:tensorflow:From C:\\Users\\prateek\\Anaconda3\\envs\\idp\\lib\\site-packages\\keras\\backend\\tensorflow_backend.py:3445: calling dropout (from tensorflow.python.ops.nn_ops) with keep_prob is deprecated and will be removed in a future version.\n",
      "Instructions for updating:\n",
      "Please use `rate` instead of `keep_prob`. Rate should be set to `rate = 1 - keep_prob`.\n",
      "WARNING:tensorflow:From C:\\Users\\prateek\\Anaconda3\\envs\\idp\\lib\\site-packages\\tensorflow\\python\\ops\\math_ops.py:3066: to_int32 (from tensorflow.python.ops.math_ops) is deprecated and will be removed in a future version.\n",
      "Instructions for updating:\n",
      "Use tf.cast instead.\n"
     ]
    }
   ],
   "source": [
    "#loading models\n",
    "cnnmodel = load_model('cnnmodel.hdf5')\n",
    "rnnmodel = load_model('rnnmodel.hdf5')\n",
    "fcc = load_model('fcc.hdf5')\n",
    "xgbmodel = XGBClassifier()\n",
    "xgbmodel = pickle.load(open(\"xgbmodel.pickle.dat\", \"rb\"))"
   ]
  },
  {
   "cell_type": "code",
   "execution_count": 5,
   "metadata": {},
   "outputs": [],
   "source": [
    "def get_morse(sequence):\n",
    "    #getting output from models\n",
    "    get_cnn_output = K.function([cnnmodel.layers[0].input],[cnnmodel.layers[5].output])\n",
    "    get_rnn_output = K.function([rnnmodel.layers[0].input],[rnnmodel.layers[0].output])\n",
    "    get_fcc_output = K.function([fcc.layers[0].input],[fcc.layers[0].output])\n",
    "\n",
    "    cnn_out = []\n",
    "    train_fea_re = sequence.reshape(1, 64, 1).astype('float32')\n",
    "    out = get_cnn_output([train_fea_re])\n",
    "    cnn_out.append(out[0][0])\n",
    "    rnn_out = []\n",
    "    train_fea_re = sequence.reshape([1,1,64]).astype('float32')\n",
    "    out = get_rnn_output([train_fea_re])\n",
    "    rnn_out.append(out[0][0])\n",
    "    fcc_out = []\n",
    "    train = []\n",
    "    train.extend(cnn_out[0])\n",
    "    train.extend(rnn_out[0])\n",
    "    train = np.asarray(train)\n",
    "    train_fea_re = train.reshape(1,300).astype('float32')\n",
    "    out = get_fcc_output([train_fea_re])\n",
    "    fcc_out.append(out[0][0])  \n",
    "    xgb_out = ''\n",
    "    train = np.asarray(fcc_out[0])\n",
    "    train_fea_re = train.reshape(1,30).astype('float32')\n",
    "    out = xgbmodel.predict(train_fea_re)\n",
    "    if out == 3:\n",
    "        xgb_out = xgb_out + '/'\n",
    "    else:\n",
    "        xgb_out = xgb_out + (str)(out[0]-1)\n",
    "    return(xgb_out)"
   ]
  },
  {
   "cell_type": "code",
   "execution_count": 9,
   "metadata": {},
   "outputs": [
    {
     "name": "stdout",
     "output_type": "stream",
     "text": [
      "28000 28000\n",
      "0\n",
      "1\n",
      "/\n"
     ]
    }
   ],
   "source": [
    "#test input drivers\n",
    "print(len(ft),len(lt))\n",
    "ltt = []\n",
    "for i in range(lt.shape[0]):\n",
    "    ltt.append(np.argmax(lt[i]))\n",
    "y1 = [ft[x] for x in range(len(ft)) if ltt[x] == 1]\n",
    "y2 = [ft[x] for x in range(len(ft)) if ltt[x] == 2]\n",
    "y3 = [ft[x] for x in range(len(ft)) if ltt[x] == 3]\n",
    "y4 = [ft[x] for x in range(len(ft)) if ltt[x] == 4]\n",
    "y5 = [ft[x] for x in range(len(ft)) if ltt[x] == 5]\n",
    "\n",
    "label_b_m = {\n",
    "    '0': y1,\n",
    "    '1': y2,\n",
    "    '/': y3,\n",
    "}\n",
    "sequence = random.choice(label_b_m['0'])\n",
    "print(get_morse(sequence))\n",
    "sequence = random.choice(label_b_m['1'])\n",
    "print(get_morse(sequence))\n",
    "sequence = random.choice(label_b_m['/'])\n",
    "print(get_morse(sequence))"
   ]
  },
  {
   "cell_type": "code",
   "execution_count": null,
   "metadata": {},
   "outputs": [],
   "source": []
  }
 ],
 "metadata": {
  "kernelspec": {
   "display_name": "Python 3",
   "language": "python",
   "name": "python3"
  },
  "language_info": {
   "codemirror_mode": {
    "name": "ipython",
    "version": 3
   },
   "file_extension": ".py",
   "mimetype": "text/x-python",
   "name": "python",
   "nbconvert_exporter": "python",
   "pygments_lexer": "ipython3",
   "version": "3.7.3"
  }
 },
 "nbformat": 4,
 "nbformat_minor": 2
}
